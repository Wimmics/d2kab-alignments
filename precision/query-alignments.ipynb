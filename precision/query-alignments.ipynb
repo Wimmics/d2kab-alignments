{
 "cells": [
  {
   "cell_type": "markdown",
   "metadata": {},
   "source": [
    "# Explore FCU - TAXREF-LD alignments\n",
    "\n",
    "This SPARQL notebook uses a SPARQL endpoint at http://localhost:8080/sparql to compute various statistics on the alignements.\n",
    "\n",
    "It submits federated queries that involve the FCU endpoint together with graph.i3s.unice.fr where a temporary version of the alignements have been loaded."
   ]
  },
  {
   "cell_type": "code",
   "execution_count": 51,
   "metadata": {},
   "outputs": [
    {
     "data": {
      "text/html": [
       "<div class=\"krn-spql\"><div class=\"magic\">Endpoint set to: http://localhost:8080/sparql</div><div class=\"magic\">Display: table</div><div class=\"magic\">Result maximum size: 1000</div><div class=\"magic\">Prefix set: rdf: = &lt;http://www.w3.org/1999/02/22-rdf-syntax-ns#&gt;</div><div class=\"magic\">Prefix set: rdfs: = &lt;http://www.w3.org/2000/01/rdf-schema#&gt;</div><div class=\"magic\">Prefix set: owl: = &lt;http://www.w3.org/2002/07/owl#&gt;</div><div class=\"magic\">Prefix set: skos: = &lt;http://www.w3.org/2004/02/skos/core#&gt;</div></div>"
      ],
      "text/plain": [
       "Endpoint set to: http://localhost:8080/sparql\n",
       "Display: table\n",
       "Result maximum size: 1000\n",
       "Prefix set: rdf: = <http://www.w3.org/1999/02/22-rdf-syntax-ns#>\n",
       "Prefix set: rdfs: = <http://www.w3.org/2000/01/rdf-schema#>\n",
       "Prefix set: owl: = <http://www.w3.org/2002/07/owl#>\n",
       "Prefix set: skos: = <http://www.w3.org/2004/02/skos/core#>\n"
      ]
     },
     "metadata": {},
     "output_type": "display_data"
    }
   ],
   "source": [
    "%endpoint http://localhost:8080/sparql\n",
    "%display table\n",
    "%show 1000\n",
    "%prefix rdf:            <http://www.w3.org/1999/02/22-rdf-syntax-ns#>\n",
    "%prefix rdfs:           <http://www.w3.org/2000/01/rdf-schema#>\n",
    "%prefix owl:            <http://www.w3.org/2002/07/owl#>\n",
    "%prefix skos:           <http://www.w3.org/2004/02/skos/core#>"
   ]
  },
  {
   "cell_type": "markdown",
   "metadata": {},
   "source": [
    "___\n",
    "# Count the FCU concepts"
   ]
  },
  {
   "cell_type": "markdown",
   "metadata": {},
   "source": [
    "### Count all FCU concepts (with or without alignment)"
   ]
  },
  {
   "cell_type": "code",
   "execution_count": 48,
   "metadata": {},
   "outputs": [
    {
     "data": {
      "text/html": [
       "<div class=\"krn-spql\"><table><tr class=hdr><th>count</th></tr><tr class=odd><td class=val>446</td></tr></table><div class=\"tinfo\">Total: 1, Shown: 1</div></div>"
      ]
     },
     "metadata": {},
     "output_type": "display_data"
    }
   ],
   "source": [
    "select (count(distinct ?fcu) as ?count) where {\n",
    "    service <http://ontology.inrae.fr/frenchcropusage/sparql> {\n",
    "        <http://ontology.inrae.fr/frenchcropusage/Usages_plantes_cultivees> skos:narrower+ ?fcu.\n",
    "        # Keep only leaves or their direct parent but not above\n",
    "        FILTER (NOT EXISTS { ?fcu skos:narrower/skos:narrower ?child. })\n",
    "    }\n",
    "}"
   ]
  },
  {
   "cell_type": "markdown",
   "metadata": {},
   "source": [
    "### Count the FCU concepts with (at least) one alignment and the total no. alignment "
   ]
  },
  {
   "cell_type": "code",
   "execution_count": 52,
   "metadata": {},
   "outputs": [
    {
     "data": {
      "text/html": [
       "<div class=\"krn-spql\"><table><tr class=hdr><th>alignment_count</th>\n",
       "<th>fcu_count</th></tr><tr class=odd><td class=val>651</td>\n",
       "<td class=val>300</td></tr></table><div class=\"tinfo\">Total: 1, Shown: 1</div></div>"
      ]
     },
     "metadata": {},
     "output_type": "display_data"
    }
   ],
   "source": [
    "select (count(distinct *) as ?alignment_count) (count(distinct ?fcu) as ?fcu_count) where {\n",
    "    service <http://graph.i3s.unice.fr/repositories/taxref-ld> {\n",
    "        select distinct *\n",
    "        from <http://taxref.mnhn.fr/lod/graph/alignment-fcu-precision>\n",
    "        where { ?fcu <http://taxref.mnhn.fr/lod/property/candidateAlignment> ?taxon } \n",
    "    }\n",
    "}"
   ]
  },
  {
   "cell_type": "code",
   "execution_count": 6,
   "metadata": {
    "collapsed": true,
    "jupyter": {
     "outputs_hidden": true
    }
   },
   "outputs": [
    {
     "data": {
      "text/html": [
       "<div class=\"krn-spql\"><table><tr class=hdr><th>fcu</th></tr><tr class=odd><td class=val><a href=\"http://ontology.inrae.fr/frenchcropusage/Abricotiers\" target=\"_other\">http://ontology.inrae.fr/frenchcropusage/Abricotiers</a></td></tr><tr class=even><td class=val><a href=\"http://ontology.inrae.fr/frenchcropusage/Abricotiers_pays\" target=\"_other\">http://ontology.inrae.fr/frenchcropusage/Abricotiers_pays</a></td></tr><tr class=odd><td class=val><a href=\"http://ontology.inrae.fr/frenchcropusage/Actinidias\" target=\"_other\">http://ontology.inrae.fr/frenchcropusage/Actinidias</a></td></tr><tr class=even><td class=val><a href=\"http://ontology.inrae.fr/frenchcropusage/Ails\" target=\"_other\">http://ontology.inrae.fr/frenchcropusage/Ails</a></td></tr><tr class=odd><td class=val><a href=\"http://ontology.inrae.fr/frenchcropusage/Alpistes\" target=\"_other\">http://ontology.inrae.fr/frenchcropusage/Alpistes</a></td></tr><tr class=even><td class=val><a href=\"http://ontology.inrae.fr/frenchcropusage/Amandiers\" target=\"_other\">http://ontology.inrae.fr/frenchcropusage/Amandiers</a></td></tr><tr class=odd><td class=val><a href=\"http://ontology.inrae.fr/frenchcropusage/Ananas\" target=\"_other\">http://ontology.inrae.fr/frenchcropusage/Ananas</a></td></tr><tr class=even><td class=val><a href=\"http://ontology.inrae.fr/frenchcropusage/Anemones\" target=\"_other\">http://ontology.inrae.fr/frenchcropusage/Anemones</a></td></tr><tr class=odd><td class=val><a href=\"http://ontology.inrae.fr/frenchcropusage/Aneths\" target=\"_other\">http://ontology.inrae.fr/frenchcropusage/Aneths</a></td></tr><tr class=even><td class=val><a href=\"http://ontology.inrae.fr/frenchcropusage/Angeliques\" target=\"_other\">http://ontology.inrae.fr/frenchcropusage/Angeliques</a></td></tr><tr class=odd><td class=val><a href=\"http://ontology.inrae.fr/frenchcropusage/Anis_vert\" target=\"_other\">http://ontology.inrae.fr/frenchcropusage/Anis_vert</a></td></tr><tr class=even><td class=val><a href=\"http://ontology.inrae.fr/frenchcropusage/Arachides\" target=\"_other\">http://ontology.inrae.fr/frenchcropusage/Arachides</a></td></tr><tr class=odd><td class=val><a href=\"http://ontology.inrae.fr/frenchcropusage/Artichauts\" target=\"_other\">http://ontology.inrae.fr/frenchcropusage/Artichauts</a></td></tr><tr class=even><td class=val><a href=\"http://ontology.inrae.fr/frenchcropusage/Asperges\" target=\"_other\">http://ontology.inrae.fr/frenchcropusage/Asperges</a></td></tr><tr class=odd><td class=val><a href=\"http://ontology.inrae.fr/frenchcropusage/Attiers\" target=\"_other\">http://ontology.inrae.fr/frenchcropusage/Attiers</a></td></tr><tr class=even><td class=val><a href=\"http://ontology.inrae.fr/frenchcropusage/Aubergines\" target=\"_other\">http://ontology.inrae.fr/frenchcropusage/Aubergines</a></td></tr><tr class=odd><td class=val><a href=\"http://ontology.inrae.fr/frenchcropusage/Avocatiers\" target=\"_other\">http://ontology.inrae.fr/frenchcropusage/Avocatiers</a></td></tr><tr class=even><td class=val><a href=\"http://ontology.inrae.fr/frenchcropusage/Avoines\" target=\"_other\">http://ontology.inrae.fr/frenchcropusage/Avoines</a></td></tr><tr class=odd><td class=val><a href=\"http://ontology.inrae.fr/frenchcropusage/Avoines_hiver\" target=\"_other\">http://ontology.inrae.fr/frenchcropusage/Avoines_hiver</a></td></tr><tr class=even><td class=val><a href=\"http://ontology.inrae.fr/frenchcropusage/Avoines_nues\" target=\"_other\">http://ontology.inrae.fr/frenchcropusage/Avoines_nues</a></td></tr><tr class=odd><td class=val><a href=\"http://ontology.inrae.fr/frenchcropusage/Avoines_nues_hiver\" target=\"_other\">http://ontology.inrae.fr/frenchcropusage/Avoines_nues_hiver</a></td></tr><tr class=even><td class=val><a href=\"http://ontology.inrae.fr/frenchcropusage/Avoines_nues_printemps\" target=\"_other\">http://ontology.inrae.fr/frenchcropusage/Avoines_nues_printemps</a></td></tr><tr class=odd><td class=val><a href=\"http://ontology.inrae.fr/frenchcropusage/Avoines_printemps\" target=\"_other\">http://ontology.inrae.fr/frenchcropusage/Avoines_printemps</a></td></tr><tr class=even><td class=val><a href=\"http://ontology.inrae.fr/frenchcropusage/Avoines_rudes\" target=\"_other\">http://ontology.inrae.fr/frenchcropusage/Avoines_rudes</a></td></tr><tr class=odd><td class=val><a href=\"http://ontology.inrae.fr/frenchcropusage/Badianiers_de_Chine\" target=\"_other\">http://ontology.inrae.fr/frenchcropusage/Badianiers_de_Chine</a></td></tr><tr class=even><td class=val><a href=\"http://ontology.inrae.fr/frenchcropusage/Bananiers\" target=\"_other\">http://ontology.inrae.fr/frenchcropusage/Bananiers</a></td></tr><tr class=odd><td class=val><a href=\"http://ontology.inrae.fr/frenchcropusage/Bananiers_plantains\" target=\"_other\">http://ontology.inrae.fr/frenchcropusage/Bananiers_plantains</a></td></tr><tr class=even><td class=val><a href=\"http://ontology.inrae.fr/frenchcropusage/Bardanes\" target=\"_other\">http://ontology.inrae.fr/frenchcropusage/Bardanes</a></td></tr><tr class=odd><td class=val><a href=\"http://ontology.inrae.fr/frenchcropusage/Basilics\" target=\"_other\">http://ontology.inrae.fr/frenchcropusage/Basilics</a></td></tr><tr class=even><td class=val><a href=\"http://ontology.inrae.fr/frenchcropusage/Betteraves_fourrageres\" target=\"_other\">http://ontology.inrae.fr/frenchcropusage/Betteraves_fourrageres</a></td></tr><tr class=odd><td class=val><a href=\"http://ontology.inrae.fr/frenchcropusage/Betteraves_sucrieres\" target=\"_other\">http://ontology.inrae.fr/frenchcropusage/Betteraves_sucrieres</a></td></tr><tr class=even><td class=val><a href=\"http://ontology.inrae.fr/frenchcropusage/Bigaradiers\" target=\"_other\">http://ontology.inrae.fr/frenchcropusage/Bigaradiers</a></td></tr><tr class=odd><td class=val><a href=\"http://ontology.inrae.fr/frenchcropusage/Bles_durs\" target=\"_other\">http://ontology.inrae.fr/frenchcropusage/Bles_durs</a></td></tr><tr class=even><td class=val><a href=\"http://ontology.inrae.fr/frenchcropusage/Bles_tendres\" target=\"_other\">http://ontology.inrae.fr/frenchcropusage/Bles_tendres</a></td></tr><tr class=odd><td class=val><a href=\"http://ontology.inrae.fr/frenchcropusage/Bles_tendres_hiver\" target=\"_other\">http://ontology.inrae.fr/frenchcropusage/Bles_tendres_hiver</a></td></tr><tr class=even><td class=val><a href=\"http://ontology.inrae.fr/frenchcropusage/Bles_tendres_printemps\" target=\"_other\">http://ontology.inrae.fr/frenchcropusage/Bles_tendres_printemps</a></td></tr><tr class=odd><td class=val><a href=\"http://ontology.inrae.fr/frenchcropusage/Bleuets\" target=\"_other\">http://ontology.inrae.fr/frenchcropusage/Bleuets</a></td></tr><tr class=even><td class=val><a href=\"http://ontology.inrae.fr/frenchcropusage/Bouleaux\" target=\"_other\">http://ontology.inrae.fr/frenchcropusage/Bouleaux</a></td></tr><tr class=odd><td class=val><a href=\"http://ontology.inrae.fr/frenchcropusage/Bourraches\" target=\"_other\">http://ontology.inrae.fr/frenchcropusage/Bourraches</a></td></tr><tr class=even><td class=val><a href=\"http://ontology.inrae.fr/frenchcropusage/Bredes\" target=\"_other\">http://ontology.inrae.fr/frenchcropusage/Bredes</a></td></tr><tr class=odd><td class=val><a href=\"http://ontology.inrae.fr/frenchcropusage/Bromes\" target=\"_other\">http://ontology.inrae.fr/frenchcropusage/Bromes</a></td></tr><tr class=even><td class=val><a href=\"http://ontology.inrae.fr/frenchcropusage/Bugles_rampantes\" target=\"_other\">http://ontology.inrae.fr/frenchcropusage/Bugles_rampantes</a></td></tr><tr class=odd><td class=val><a href=\"http://ontology.inrae.fr/frenchcropusage/Cacaoyers\" target=\"_other\">http://ontology.inrae.fr/frenchcropusage/Cacaoyers</a></td></tr><tr class=even><td class=val><a href=\"http://ontology.inrae.fr/frenchcropusage/Cafeiers\" target=\"_other\">http://ontology.inrae.fr/frenchcropusage/Cafeiers</a></td></tr><tr class=odd><td class=val><a href=\"http://ontology.inrae.fr/frenchcropusage/Calebasses\" target=\"_other\">http://ontology.inrae.fr/frenchcropusage/Calebasses</a></td></tr><tr class=even><td class=val><a href=\"http://ontology.inrae.fr/frenchcropusage/Camelines\" target=\"_other\">http://ontology.inrae.fr/frenchcropusage/Camelines</a></td></tr><tr class=odd><td class=val><a href=\"http://ontology.inrae.fr/frenchcropusage/Camomilles\" target=\"_other\">http://ontology.inrae.fr/frenchcropusage/Camomilles</a></td></tr><tr class=even><td class=val><a href=\"http://ontology.inrae.fr/frenchcropusage/Canneberges\" target=\"_other\">http://ontology.inrae.fr/frenchcropusage/Canneberges</a></td></tr><tr class=odd><td class=val><a href=\"http://ontology.inrae.fr/frenchcropusage/Cannes_sucres\" target=\"_other\">http://ontology.inrae.fr/frenchcropusage/Cannes_sucres</a></td></tr><tr class=even><td class=val><a href=\"http://ontology.inrae.fr/frenchcropusage/Caramboliers\" target=\"_other\">http://ontology.inrae.fr/frenchcropusage/Caramboliers</a></td></tr><tr class=odd><td class=val><a href=\"http://ontology.inrae.fr/frenchcropusage/Cardamomes\" target=\"_other\">http://ontology.inrae.fr/frenchcropusage/Cardamomes</a></td></tr><tr class=even><td class=val><a href=\"http://ontology.inrae.fr/frenchcropusage/Cardons\" target=\"_other\">http://ontology.inrae.fr/frenchcropusage/Cardons</a></td></tr><tr class=odd><td class=val><a href=\"http://ontology.inrae.fr/frenchcropusage/Caroubiers\" target=\"_other\">http://ontology.inrae.fr/frenchcropusage/Caroubiers</a></td></tr><tr class=even><td class=val><a href=\"http://ontology.inrae.fr/frenchcropusage/Carvis\" target=\"_other\">http://ontology.inrae.fr/frenchcropusage/Carvis</a></td></tr><tr class=odd><td class=val><a href=\"http://ontology.inrae.fr/frenchcropusage/Cassissiers\" target=\"_other\">http://ontology.inrae.fr/frenchcropusage/Cassissiers</a></td></tr><tr class=even><td class=val><a href=\"http://ontology.inrae.fr/frenchcropusage/Cedratiers\" target=\"_other\">http://ontology.inrae.fr/frenchcropusage/Cedratiers</a></td></tr><tr class=odd><td class=val><a href=\"http://ontology.inrae.fr/frenchcropusage/Celeris\" target=\"_other\">http://ontology.inrae.fr/frenchcropusage/Celeris</a></td></tr><tr class=even><td class=val><a href=\"http://ontology.inrae.fr/frenchcropusage/Celeris_a_cotes\" target=\"_other\">http://ontology.inrae.fr/frenchcropusage/Celeris_a_cotes</a></td></tr><tr class=odd><td class=val><a href=\"http://ontology.inrae.fr/frenchcropusage/Celeris_couper\" target=\"_other\">http://ontology.inrae.fr/frenchcropusage/Celeris_couper</a></td></tr><tr class=even><td class=val><a href=\"http://ontology.inrae.fr/frenchcropusage/Celeris_raves\" target=\"_other\">http://ontology.inrae.fr/frenchcropusage/Celeris_raves</a></td></tr><tr class=odd><td class=val><a href=\"http://ontology.inrae.fr/frenchcropusage/Cerfeuils_anises\" target=\"_other\">http://ontology.inrae.fr/frenchcropusage/Cerfeuils_anises</a></td></tr><tr class=even><td class=val><a href=\"http://ontology.inrae.fr/frenchcropusage/Cerfeuils_communs\" target=\"_other\">http://ontology.inrae.fr/frenchcropusage/Cerfeuils_communs</a></td></tr><tr class=odd><td class=val><a href=\"http://ontology.inrae.fr/frenchcropusage/Cerfeuils_tubereux\" target=\"_other\">http://ontology.inrae.fr/frenchcropusage/Cerfeuils_tubereux</a></td></tr><tr class=even><td class=val><a href=\"http://ontology.inrae.fr/frenchcropusage/Cerisiers\" target=\"_other\">http://ontology.inrae.fr/frenchcropusage/Cerisiers</a></td></tr><tr class=odd><td class=val><a href=\"http://ontology.inrae.fr/frenchcropusage/Cerisiers_de_Cayenne\" target=\"_other\">http://ontology.inrae.fr/frenchcropusage/Cerisiers_de_Cayenne</a></td></tr><tr class=even><td class=val><a href=\"http://ontology.inrae.fr/frenchcropusage/Champignons\" target=\"_other\">http://ontology.inrae.fr/frenchcropusage/Champignons</a></td></tr><tr class=odd><td class=val><a href=\"http://ontology.inrae.fr/frenchcropusage/Chardons_Marie\" target=\"_other\">http://ontology.inrae.fr/frenchcropusage/Chardons_Marie</a></td></tr><tr class=even><td class=val><a href=\"http://ontology.inrae.fr/frenchcropusage/Chataigniers\" target=\"_other\">http://ontology.inrae.fr/frenchcropusage/Chataigniers</a></td></tr><tr class=odd><td class=val><a href=\"http://ontology.inrae.fr/frenchcropusage/Chenes\" target=\"_other\">http://ontology.inrae.fr/frenchcropusage/Chenes</a></td></tr><tr class=even><td class=val><a href=\"http://ontology.inrae.fr/frenchcropusage/Chicorees_Bruxelles\" target=\"_other\">http://ontology.inrae.fr/frenchcropusage/Chicorees_Bruxelles</a></td></tr><tr class=odd><td class=val><a href=\"http://ontology.inrae.fr/frenchcropusage/Chicorees_frisees\" target=\"_other\">http://ontology.inrae.fr/frenchcropusage/Chicorees_frisees</a></td></tr><tr class=even><td class=val><a href=\"http://ontology.inrae.fr/frenchcropusage/Chicorees_industrielles\" target=\"_other\">http://ontology.inrae.fr/frenchcropusage/Chicorees_industrielles</a></td></tr><tr class=odd><td class=val><a href=\"http://ontology.inrae.fr/frenchcropusage/Chicorees_potageres\" target=\"_other\">http://ontology.inrae.fr/frenchcropusage/Chicorees_potageres</a></td></tr><tr class=even><td class=val><a href=\"http://ontology.inrae.fr/frenchcropusage/Chicorees_scaroles\" target=\"_other\">http://ontology.inrae.fr/frenchcropusage/Chicorees_scaroles</a></td></tr><tr class=odd><td class=val><a href=\"http://ontology.inrae.fr/frenchcropusage/Choux_Bruxelles\" target=\"_other\">http://ontology.inrae.fr/frenchcropusage/Choux_Bruxelles</a></td></tr><tr class=even><td class=val><a href=\"http://ontology.inrae.fr/frenchcropusage/Choux_Milan\" target=\"_other\">http://ontology.inrae.fr/frenchcropusage/Choux_Milan</a></td></tr><tr class=odd><td class=val><a href=\"http://ontology.inrae.fr/frenchcropusage/Choux_brocolis\" target=\"_other\">http://ontology.inrae.fr/frenchcropusage/Choux_brocolis</a></td></tr><tr class=even><td class=val><a href=\"http://ontology.inrae.fr/frenchcropusage/Choux_cabus_blancs\" target=\"_other\">http://ontology.inrae.fr/frenchcropusage/Choux_cabus_blancs</a></td></tr><tr class=odd><td class=val><a href=\"http://ontology.inrae.fr/frenchcropusage/Choux_cabus_rouges\" target=\"_other\">http://ontology.inrae.fr/frenchcropusage/Choux_cabus_rouges</a></td></tr><tr class=even><td class=val><a href=\"http://ontology.inrae.fr/frenchcropusage/Choux_chinois\" target=\"_other\">http://ontology.inrae.fr/frenchcropusage/Choux_chinois</a></td></tr><tr class=odd><td class=val><a href=\"http://ontology.inrae.fr/frenchcropusage/Choux_communs\" target=\"_other\">http://ontology.inrae.fr/frenchcropusage/Choux_communs</a></td></tr><tr class=even><td class=val><a href=\"http://ontology.inrae.fr/frenchcropusage/Choux_fleurs\" target=\"_other\">http://ontology.inrae.fr/frenchcropusage/Choux_fleurs</a></td></tr><tr class=odd><td class=val><a href=\"http://ontology.inrae.fr/frenchcropusage/Choux_fourragers\" target=\"_other\">http://ontology.inrae.fr/frenchcropusage/Choux_fourragers</a></td></tr><tr class=even><td class=val><a href=\"http://ontology.inrae.fr/frenchcropusage/Choux_frisés\" target=\"_other\">http://ontology.inrae.fr/frenchcropusage/Choux_frisés</a></td></tr><tr class=odd><td class=val><a href=\"http://ontology.inrae.fr/frenchcropusage/Choux_navets_chair_jaune\" target=\"_other\">http://ontology.inrae.fr/frenchcropusage/Choux_navets_chair_jaune</a></td></tr><tr class=even><td class=val><a href=\"http://ontology.inrae.fr/frenchcropusage/Choux_pommes\" target=\"_other\">http://ontology.inrae.fr/frenchcropusage/Choux_pommes</a></td></tr><tr class=odd><td class=val><a href=\"http://ontology.inrae.fr/frenchcropusage/Choux_raves\" target=\"_other\">http://ontology.inrae.fr/frenchcropusage/Choux_raves</a></td></tr><tr class=even><td class=val><a href=\"http://ontology.inrae.fr/frenchcropusage/Choux_verts\" target=\"_other\">http://ontology.inrae.fr/frenchcropusage/Choux_verts</a></td></tr><tr class=odd><td class=val><a href=\"http://ontology.inrae.fr/frenchcropusage/Christophines\" target=\"_other\">http://ontology.inrae.fr/frenchcropusage/Christophines</a></td></tr><tr class=even><td class=val><a href=\"http://ontology.inrae.fr/frenchcropusage/Ciboules\" target=\"_other\">http://ontology.inrae.fr/frenchcropusage/Ciboules</a></td></tr><tr class=odd><td class=val><a href=\"http://ontology.inrae.fr/frenchcropusage/Ciboulettes\" target=\"_other\">http://ontology.inrae.fr/frenchcropusage/Ciboulettes</a></td></tr><tr class=even><td class=val><a href=\"http://ontology.inrae.fr/frenchcropusage/Citronniers\" target=\"_other\">http://ontology.inrae.fr/frenchcropusage/Citronniers</a></td></tr><tr class=odd><td class=val><a href=\"http://ontology.inrae.fr/frenchcropusage/Citrouilles\" target=\"_other\">http://ontology.inrae.fr/frenchcropusage/Citrouilles</a></td></tr><tr class=even><td class=val><a href=\"http://ontology.inrae.fr/frenchcropusage/Cocotiers\" target=\"_other\">http://ontology.inrae.fr/frenchcropusage/Cocotiers</a></td></tr><tr class=odd><td class=val><a href=\"http://ontology.inrae.fr/frenchcropusage/Cognassiers\" target=\"_other\">http://ontology.inrae.fr/frenchcropusage/Cognassiers</a></td></tr><tr class=even><td class=val><a href=\"http://ontology.inrae.fr/frenchcropusage/Colzas_oleagineux_hiver\" target=\"_other\">http://ontology.inrae.fr/frenchcropusage/Colzas_oleagineux_hiver</a></td></tr><tr class=odd><td class=val><a href=\"http://ontology.inrae.fr/frenchcropusage/Combavas\" target=\"_other\">http://ontology.inrae.fr/frenchcropusage/Combavas</a></td></tr><tr class=even><td class=val><a href=\"http://ontology.inrae.fr/frenchcropusage/Concombres\" target=\"_other\">http://ontology.inrae.fr/frenchcropusage/Concombres</a></td></tr><tr class=odd><td class=val><a href=\"http://ontology.inrae.fr/frenchcropusage/Coniferes\" target=\"_other\">http://ontology.inrae.fr/frenchcropusage/Coniferes</a></td></tr><tr class=even><td class=val><a href=\"http://ontology.inrae.fr/frenchcropusage/Coquerets_du_Perou\" target=\"_other\">http://ontology.inrae.fr/frenchcropusage/Coquerets_du_Perou</a></td></tr><tr class=odd><td class=val><a href=\"http://ontology.inrae.fr/frenchcropusage/Coriandres\" target=\"_other\">http://ontology.inrae.fr/frenchcropusage/Coriandres</a></td></tr><tr class=even><td class=val><a href=\"http://ontology.inrae.fr/frenchcropusage/Cornichons\" target=\"_other\">http://ontology.inrae.fr/frenchcropusage/Cornichons</a></td></tr><tr class=odd><td class=val><a href=\"http://ontology.inrae.fr/frenchcropusage/Cornilles\" target=\"_other\">http://ontology.inrae.fr/frenchcropusage/Cornilles</a></td></tr><tr class=even><td class=val><a href=\"http://ontology.inrae.fr/frenchcropusage/Corossoliers\" target=\"_other\">http://ontology.inrae.fr/frenchcropusage/Corossoliers</a></td></tr><tr class=odd><td class=val><a href=\"http://ontology.inrae.fr/frenchcropusage/Courges\" target=\"_other\">http://ontology.inrae.fr/frenchcropusage/Courges</a></td></tr><tr class=even><td class=val><a href=\"http://ontology.inrae.fr/frenchcropusage/Courges_musquees\" target=\"_other\">http://ontology.inrae.fr/frenchcropusage/Courges_musquees</a></td></tr><tr class=odd><td class=val><a href=\"http://ontology.inrae.fr/frenchcropusage/Courgettes\" target=\"_other\">http://ontology.inrae.fr/frenchcropusage/Courgettes</a></td></tr><tr class=even><td class=val><a href=\"http://ontology.inrae.fr/frenchcropusage/Crocus_cultives\" target=\"_other\">http://ontology.inrae.fr/frenchcropusage/Crocus_cultives</a></td></tr><tr class=odd><td class=val><a href=\"http://ontology.inrae.fr/frenchcropusage/Crosnes\" target=\"_other\">http://ontology.inrae.fr/frenchcropusage/Crosnes</a></td></tr><tr class=even><td class=val><a href=\"http://ontology.inrae.fr/frenchcropusage/Cumins\" target=\"_other\">http://ontology.inrae.fr/frenchcropusage/Cumins</a></td></tr><tr class=odd><td class=val><a href=\"http://ontology.inrae.fr/frenchcropusage/Curcumas\" target=\"_other\">http://ontology.inrae.fr/frenchcropusage/Curcumas</a></td></tr><tr class=even><td class=val><a href=\"http://ontology.inrae.fr/frenchcropusage/Dactyles\" target=\"_other\">http://ontology.inrae.fr/frenchcropusage/Dactyles</a></td></tr><tr class=odd><td class=val><a href=\"http://ontology.inrae.fr/frenchcropusage/Doliques_asperges\" target=\"_other\">http://ontology.inrae.fr/frenchcropusage/Doliques_asperges</a></td></tr><tr class=even><td class=val><a href=\"http://ontology.inrae.fr/frenchcropusage/Echalotes\" target=\"_other\">http://ontology.inrae.fr/frenchcropusage/Echalotes</a></td></tr><tr class=odd><td class=val><a href=\"http://ontology.inrae.fr/frenchcropusage/Eglantiers\" target=\"_other\">http://ontology.inrae.fr/frenchcropusage/Eglantiers</a></td></tr><tr class=even><td class=val><a href=\"http://ontology.inrae.fr/frenchcropusage/Engrains\" target=\"_other\">http://ontology.inrae.fr/frenchcropusage/Engrains</a></td></tr><tr class=odd><td class=val><a href=\"http://ontology.inrae.fr/frenchcropusage/Epeautres\" target=\"_other\">http://ontology.inrae.fr/frenchcropusage/Epeautres</a></td></tr><tr class=even><td class=val><a href=\"http://ontology.inrae.fr/frenchcropusage/Epinards\" target=\"_other\">http://ontology.inrae.fr/frenchcropusage/Epinards</a></td></tr><tr class=odd><td class=val><a href=\"http://ontology.inrae.fr/frenchcropusage/Erables_sycomores\" target=\"_other\">http://ontology.inrae.fr/frenchcropusage/Erables_sycomores</a></td></tr><tr class=even><td class=val><a href=\"http://ontology.inrae.fr/frenchcropusage/Estragons\" target=\"_other\">http://ontology.inrae.fr/frenchcropusage/Estragons</a></td></tr><tr class=odd><td class=val><a href=\"http://ontology.inrae.fr/frenchcropusage/Fenouils\" target=\"_other\">http://ontology.inrae.fr/frenchcropusage/Fenouils</a></td></tr><tr class=even><td class=val><a href=\"http://ontology.inrae.fr/frenchcropusage/Fenugrecs_engrais_verts\" target=\"_other\">http://ontology.inrae.fr/frenchcropusage/Fenugrecs_engrais_verts</a></td></tr><tr class=odd><td class=val><a href=\"http://ontology.inrae.fr/frenchcropusage/Fetuques\" target=\"_other\">http://ontology.inrae.fr/frenchcropusage/Fetuques</a></td></tr><tr class=even><td class=val><a href=\"http://ontology.inrae.fr/frenchcropusage/Feveroles_fourrageres\" target=\"_other\">http://ontology.inrae.fr/frenchcropusage/Feveroles_fourrageres</a></td></tr><tr class=odd><td class=val><a href=\"http://ontology.inrae.fr/frenchcropusage/Feves_maraicheres\" target=\"_other\">http://ontology.inrae.fr/frenchcropusage/Feves_maraicheres</a></td></tr><tr class=even><td class=val><a href=\"http://ontology.inrae.fr/frenchcropusage/Figuiers\" target=\"_other\">http://ontology.inrae.fr/frenchcropusage/Figuiers</a></td></tr><tr class=odd><td class=val><a href=\"http://ontology.inrae.fr/frenchcropusage/Fraisiers\" target=\"_other\">http://ontology.inrae.fr/frenchcropusage/Fraisiers</a></td></tr><tr class=even><td class=val><a href=\"http://ontology.inrae.fr/frenchcropusage/Framboisiers\" target=\"_other\">http://ontology.inrae.fr/frenchcropusage/Framboisiers</a></td></tr><tr class=odd><td class=val><a href=\"http://ontology.inrae.fr/frenchcropusage/Gaillets\" target=\"_other\">http://ontology.inrae.fr/frenchcropusage/Gaillets</a></td></tr><tr class=even><td class=val><a href=\"http://ontology.inrae.fr/frenchcropusage/Genets_des_teinturiers\" target=\"_other\">http://ontology.inrae.fr/frenchcropusage/Genets_des_teinturiers</a></td></tr><tr class=odd><td class=val><a href=\"http://ontology.inrae.fr/frenchcropusage/Gentianes\" target=\"_other\">http://ontology.inrae.fr/frenchcropusage/Gentianes</a></td></tr><tr class=even><td class=val><a href=\"http://ontology.inrae.fr/frenchcropusage/Geraniums\" target=\"_other\">http://ontology.inrae.fr/frenchcropusage/Geraniums</a></td></tr><tr class=odd><td class=val><a href=\"http://ontology.inrae.fr/frenchcropusage/Gerberas\" target=\"_other\">http://ontology.inrae.fr/frenchcropusage/Gerberas</a></td></tr><tr class=even><td class=val><a href=\"http://ontology.inrae.fr/frenchcropusage/Gesses_fourrageres\" target=\"_other\">http://ontology.inrae.fr/frenchcropusage/Gesses_fourrageres</a></td></tr><tr class=odd><td class=val><a href=\"http://ontology.inrae.fr/frenchcropusage/Gesses_odorantes\" target=\"_other\">http://ontology.inrae.fr/frenchcropusage/Gesses_odorantes</a></td></tr><tr class=even><td class=val><a href=\"http://ontology.inrae.fr/frenchcropusage/Gesses_potageres\" target=\"_other\">http://ontology.inrae.fr/frenchcropusage/Gesses_potageres</a></td></tr><tr class=odd><td class=val><a href=\"http://ontology.inrae.fr/frenchcropusage/Gingembres\" target=\"_other\">http://ontology.inrae.fr/frenchcropusage/Gingembres</a></td></tr><tr class=even><td class=val><a href=\"http://ontology.inrae.fr/frenchcropusage/Ginkgos_biloba\" target=\"_other\">http://ontology.inrae.fr/frenchcropusage/Ginkgos_biloba</a></td></tr><tr class=odd><td class=val><a href=\"http://ontology.inrae.fr/frenchcropusage/Gombos\" target=\"_other\">http://ontology.inrae.fr/frenchcropusage/Gombos</a></td></tr><tr class=even><td class=val><a href=\"http://ontology.inrae.fr/frenchcropusage/Goyaviers\" target=\"_other\">http://ontology.inrae.fr/frenchcropusage/Goyaviers</a></td></tr><tr class=odd><td class=val><a href=\"http://ontology.inrae.fr/frenchcropusage/Goyaviers_Chine\" target=\"_other\">http://ontology.inrae.fr/frenchcropusage/Goyaviers_Chine</a></td></tr><tr class=even><td class=val><a href=\"http://ontology.inrae.fr/frenchcropusage/Grenadiers\" target=\"_other\">http://ontology.inrae.fr/frenchcropusage/Grenadiers</a></td></tr><tr class=odd><td class=val><a href=\"http://ontology.inrae.fr/frenchcropusage/Grenadilles\" target=\"_other\">http://ontology.inrae.fr/frenchcropusage/Grenadilles</a></td></tr><tr class=even><td class=val><a href=\"http://ontology.inrae.fr/frenchcropusage/Groseilliers\" target=\"_other\">http://ontology.inrae.fr/frenchcropusage/Groseilliers</a></td></tr><tr class=odd><td class=val><a href=\"http://ontology.inrae.fr/frenchcropusage/Haricots_Espagne\" target=\"_other\">http://ontology.inrae.fr/frenchcropusage/Haricots_Espagne</a></td></tr><tr class=even><td class=val><a href=\"http://ontology.inrae.fr/frenchcropusage/Haricots_demi_sec\" target=\"_other\">http://ontology.inrae.fr/frenchcropusage/Haricots_demi_sec</a></td></tr><tr class=odd><td class=val><a href=\"http://ontology.inrae.fr/frenchcropusage/Haricots_sabres\" target=\"_other\">http://ontology.inrae.fr/frenchcropusage/Haricots_sabres</a></td></tr><tr class=even><td class=val><a href=\"http://ontology.inrae.fr/frenchcropusage/Haricots_verts\" target=\"_other\">http://ontology.inrae.fr/frenchcropusage/Haricots_verts</a></td></tr><tr class=odd><td class=val><a href=\"http://ontology.inrae.fr/frenchcropusage/Helichryse_Italie\" target=\"_other\">http://ontology.inrae.fr/frenchcropusage/Helichryse_Italie</a></td></tr><tr class=even><td class=val><a href=\"http://ontology.inrae.fr/frenchcropusage/Hellebores_noirs\" target=\"_other\">http://ontology.inrae.fr/frenchcropusage/Hellebores_noirs</a></td></tr><tr class=odd><td class=val><a href=\"http://ontology.inrae.fr/frenchcropusage/Hetres\" target=\"_other\">http://ontology.inrae.fr/frenchcropusage/Hetres</a></td></tr><tr class=even><td class=val><a href=\"http://ontology.inrae.fr/frenchcropusage/Hibiscus_ornemental\" target=\"_other\">http://ontology.inrae.fr/frenchcropusage/Hibiscus_ornemental</a></td></tr><tr class=odd><td class=val><a href=\"http://ontology.inrae.fr/frenchcropusage/Houblons\" target=\"_other\">http://ontology.inrae.fr/frenchcropusage/Houblons</a></td></tr><tr class=even><td class=val><a href=\"http://ontology.inrae.fr/frenchcropusage/Laitues\" target=\"_other\">http://ontology.inrae.fr/frenchcropusage/Laitues</a></td></tr><tr class=odd><td class=val><a href=\"http://ontology.inrae.fr/frenchcropusage/Laitues_batavia\" target=\"_other\">http://ontology.inrae.fr/frenchcropusage/Laitues_batavia</a></td></tr><tr class=even><td class=val><a href=\"http://ontology.inrae.fr/frenchcropusage/Laitues_couper\" target=\"_other\">http://ontology.inrae.fr/frenchcropusage/Laitues_couper</a></td></tr><tr class=odd><td class=val><a href=\"http://ontology.inrae.fr/frenchcropusage/Laitues_pommees\" target=\"_other\">http://ontology.inrae.fr/frenchcropusage/Laitues_pommees</a></td></tr><tr class=even><td class=val><a href=\"http://ontology.inrae.fr/frenchcropusage/Laitues_romaines\" target=\"_other\">http://ontology.inrae.fr/frenchcropusage/Laitues_romaines</a></td></tr><tr class=odd><td class=val><a href=\"http://ontology.inrae.fr/frenchcropusage/Lauriers_aromates\" target=\"_other\">http://ontology.inrae.fr/frenchcropusage/Lauriers_aromates</a></td></tr><tr class=even><td class=val><a href=\"http://ontology.inrae.fr/frenchcropusage/Lauriers_ornementaux\" target=\"_other\">http://ontology.inrae.fr/frenchcropusage/Lauriers_ornementaux</a></td></tr><tr class=odd><td class=val><a href=\"http://ontology.inrae.fr/frenchcropusage/Lavandins\" target=\"_other\">http://ontology.inrae.fr/frenchcropusage/Lavandins</a></td></tr><tr class=even><td class=val><a href=\"http://ontology.inrae.fr/frenchcropusage/Lentilles_fourrageres\" target=\"_other\">http://ontology.inrae.fr/frenchcropusage/Lentilles_fourrageres</a></td></tr><tr class=odd><td class=val><a href=\"http://ontology.inrae.fr/frenchcropusage/Limettiers\" target=\"_other\">http://ontology.inrae.fr/frenchcropusage/Limettiers</a></td></tr><tr class=even><td class=val><a href=\"http://ontology.inrae.fr/frenchcropusage/Limoniums\" target=\"_other\">http://ontology.inrae.fr/frenchcropusage/Limoniums</a></td></tr><tr class=odd><td class=val><a href=\"http://ontology.inrae.fr/frenchcropusage/Litchis\" target=\"_other\">http://ontology.inrae.fr/frenchcropusage/Litchis</a></td></tr><tr class=even><td class=val><a href=\"http://ontology.inrae.fr/frenchcropusage/Liveches\" target=\"_other\">http://ontology.inrae.fr/frenchcropusage/Liveches</a></td></tr><tr class=odd><td class=val><a href=\"http://ontology.inrae.fr/frenchcropusage/Longaniers\" target=\"_other\">http://ontology.inrae.fr/frenchcropusage/Longaniers</a></td></tr><tr class=even><td class=val><a href=\"http://ontology.inrae.fr/frenchcropusage/Lotiers\" target=\"_other\">http://ontology.inrae.fr/frenchcropusage/Lotiers</a></td></tr><tr class=odd><td class=val><a href=\"http://ontology.inrae.fr/frenchcropusage/Lupins_engrais_verts\" target=\"_other\">http://ontology.inrae.fr/frenchcropusage/Lupins_engrais_verts</a></td></tr><tr class=even><td class=val><a href=\"http://ontology.inrae.fr/frenchcropusage/Lupins_fourragers\" target=\"_other\">http://ontology.inrae.fr/frenchcropusage/Lupins_fourragers</a></td></tr><tr class=odd><td class=val><a href=\"http://ontology.inrae.fr/frenchcropusage/Lupins_proteagineux_blancs\" target=\"_other\">http://ontology.inrae.fr/frenchcropusage/Lupins_proteagineux_blancs</a></td></tr><tr class=even><td class=val><a href=\"http://ontology.inrae.fr/frenchcropusage/Lupins_proteagineux_blancs_hiver\" target=\"_other\">http://ontology.inrae.fr/frenchcropusage/Lupins_proteagineux_blancs_hiver</a></td></tr><tr class=odd><td class=val><a href=\"http://ontology.inrae.fr/frenchcropusage/Lupins_proteagineux_blancs_printemps\" target=\"_other\">http://ontology.inrae.fr/frenchcropusage/Lupins_proteagineux_blancs_printemps</a></td></tr><tr class=even><td class=val><a href=\"http://ontology.inrae.fr/frenchcropusage/Lupulines\" target=\"_other\">http://ontology.inrae.fr/frenchcropusage/Lupulines</a></td></tr><tr class=odd><td class=val><a href=\"http://ontology.inrae.fr/frenchcropusage/Luzernes\" target=\"_other\">http://ontology.inrae.fr/frenchcropusage/Luzernes</a></td></tr><tr class=even><td class=val><a href=\"http://ontology.inrae.fr/frenchcropusage/Maches\" target=\"_other\">http://ontology.inrae.fr/frenchcropusage/Maches</a></td></tr><tr class=odd><td class=val><a href=\"http://ontology.inrae.fr/frenchcropusage/Mandariniers\" target=\"_other\">http://ontology.inrae.fr/frenchcropusage/Mandariniers</a></td></tr><tr class=even><td class=val><a href=\"http://ontology.inrae.fr/frenchcropusage/Mangoustaniers\" target=\"_other\">http://ontology.inrae.fr/frenchcropusage/Mangoustaniers</a></td></tr><tr class=odd><td class=val><a href=\"http://ontology.inrae.fr/frenchcropusage/Manguiers\" target=\"_other\">http://ontology.inrae.fr/frenchcropusage/Manguiers</a></td></tr><tr class=even><td class=val><a href=\"http://ontology.inrae.fr/frenchcropusage/Maniocs\" target=\"_other\">http://ontology.inrae.fr/frenchcropusage/Maniocs</a></td></tr><tr class=odd><td class=val><a href=\"http://ontology.inrae.fr/frenchcropusage/Marguerites\" target=\"_other\">http://ontology.inrae.fr/frenchcropusage/Marguerites</a></td></tr><tr class=even><td class=val><a href=\"http://ontology.inrae.fr/frenchcropusage/Marjolaines\" target=\"_other\">http://ontology.inrae.fr/frenchcropusage/Marjolaines</a></td></tr><tr class=odd><td class=val><a href=\"http://ontology.inrae.fr/frenchcropusage/Mauves\" target=\"_other\">http://ontology.inrae.fr/frenchcropusage/Mauves</a></td></tr><tr class=even><td class=val><a href=\"http://ontology.inrae.fr/frenchcropusage/Melilots_fourragers\" target=\"_other\">http://ontology.inrae.fr/frenchcropusage/Melilots_fourragers</a></td></tr><tr class=odd><td class=val><a href=\"http://ontology.inrae.fr/frenchcropusage/Melilots_jaunes_engrais_verts\" target=\"_other\">http://ontology.inrae.fr/frenchcropusage/Melilots_jaunes_engrais_verts</a></td></tr><tr class=even><td class=val><a href=\"http://ontology.inrae.fr/frenchcropusage/Melilots_officinales\" target=\"_other\">http://ontology.inrae.fr/frenchcropusage/Melilots_officinales</a></td></tr><tr class=odd><td class=val><a href=\"http://ontology.inrae.fr/frenchcropusage/Melisses\" target=\"_other\">http://ontology.inrae.fr/frenchcropusage/Melisses</a></td></tr><tr class=even><td class=val><a href=\"http://ontology.inrae.fr/frenchcropusage/Melons\" target=\"_other\">http://ontology.inrae.fr/frenchcropusage/Melons</a></td></tr><tr class=odd><td class=val><a href=\"http://ontology.inrae.fr/frenchcropusage/Menthes\" target=\"_other\">http://ontology.inrae.fr/frenchcropusage/Menthes</a></td></tr><tr class=even><td class=val><a href=\"http://ontology.inrae.fr/frenchcropusage/Millepertuis\" target=\"_other\">http://ontology.inrae.fr/frenchcropusage/Millepertuis</a></td></tr><tr class=odd><td class=val><a href=\"http://ontology.inrae.fr/frenchcropusage/Millets\" target=\"_other\">http://ontology.inrae.fr/frenchcropusage/Millets</a></td></tr><tr class=even><td class=val><a href=\"http://ontology.inrae.fr/frenchcropusage/Miscanthus_industriels\" target=\"_other\">http://ontology.inrae.fr/frenchcropusage/Miscanthus_industriels</a></td></tr><tr class=odd><td class=val><a href=\"http://ontology.inrae.fr/frenchcropusage/Mohas_fourragers\" target=\"_other\">http://ontology.inrae.fr/frenchcropusage/Mohas_fourragers</a></td></tr><tr class=even><td class=val><a href=\"http://ontology.inrae.fr/frenchcropusage/Moutardes_brunes\" target=\"_other\">http://ontology.inrae.fr/frenchcropusage/Moutardes_brunes</a></td></tr><tr class=odd><td class=val><a href=\"http://ontology.inrae.fr/frenchcropusage/Moutardes_noires\" target=\"_other\">http://ontology.inrae.fr/frenchcropusage/Moutardes_noires</a></td></tr><tr class=even><td class=val><a href=\"http://ontology.inrae.fr/frenchcropusage/Muriers\" target=\"_other\">http://ontology.inrae.fr/frenchcropusage/Muriers</a></td></tr><tr class=odd><td class=val><a href=\"http://ontology.inrae.fr/frenchcropusage/Myrtilles\" target=\"_other\">http://ontology.inrae.fr/frenchcropusage/Myrtilles</a></td></tr><tr class=even><td class=val><a href=\"http://ontology.inrae.fr/frenchcropusage/Navets_fourragers\" target=\"_other\">http://ontology.inrae.fr/frenchcropusage/Navets_fourragers</a></td></tr><tr class=odd><td class=val><a href=\"http://ontology.inrae.fr/frenchcropusage/Navets_potagers\" target=\"_other\">http://ontology.inrae.fr/frenchcropusage/Navets_potagers</a></td></tr><tr class=even><td class=val><a href=\"http://ontology.inrae.fr/frenchcropusage/Nefliers_du_Japon\" target=\"_other\">http://ontology.inrae.fr/frenchcropusage/Nefliers_du_Japon</a></td></tr><tr class=odd><td class=val><a href=\"http://ontology.inrae.fr/frenchcropusage/Nigers_engrais_verts\" target=\"_other\">http://ontology.inrae.fr/frenchcropusage/Nigers_engrais_verts</a></td></tr><tr class=even><td class=val><a href=\"http://ontology.inrae.fr/frenchcropusage/Noisetiers\" target=\"_other\">http://ontology.inrae.fr/frenchcropusage/Noisetiers</a></td></tr><tr class=odd><td class=val><a href=\"http://ontology.inrae.fr/frenchcropusage/Noyers\" target=\"_other\">http://ontology.inrae.fr/frenchcropusage/Noyers</a></td></tr><tr class=even><td class=val><a href=\"http://ontology.inrae.fr/frenchcropusage/Oeillettes\" target=\"_other\">http://ontology.inrae.fr/frenchcropusage/Oeillettes</a></td></tr><tr class=odd><td class=val><a href=\"http://ontology.inrae.fr/frenchcropusage/Oignons\" target=\"_other\">http://ontology.inrae.fr/frenchcropusage/Oignons</a></td></tr><tr class=even><td class=val><a href=\"http://ontology.inrae.fr/frenchcropusage/Oliviers_fruits_noyaux\" target=\"_other\">http://ontology.inrae.fr/frenchcropusage/Oliviers_fruits_noyaux</a></td></tr><tr class=odd><td class=val><a href=\"http://ontology.inrae.fr/frenchcropusage/Orangers\" target=\"_other\">http://ontology.inrae.fr/frenchcropusage/Orangers</a></td></tr><tr class=even><td class=val><a href=\"http://ontology.inrae.fr/frenchcropusage/Orangers_du_Mexique\" target=\"_other\">http://ontology.inrae.fr/frenchcropusage/Orangers_du_Mexique</a></td></tr><tr class=odd><td class=val><a href=\"http://ontology.inrae.fr/frenchcropusage/Orges_deux_rangs\" target=\"_other\">http://ontology.inrae.fr/frenchcropusage/Orges_deux_rangs</a></td></tr><tr class=even><td class=val><a href=\"http://ontology.inrae.fr/frenchcropusage/Orges_hiver\" target=\"_other\">http://ontology.inrae.fr/frenchcropusage/Orges_hiver</a></td></tr><tr class=odd><td class=val><a href=\"http://ontology.inrae.fr/frenchcropusage/Orges_printemps\" target=\"_other\">http://ontology.inrae.fr/frenchcropusage/Orges_printemps</a></td></tr><tr class=even><td class=val><a href=\"http://ontology.inrae.fr/frenchcropusage/Orges_six_rangs\" target=\"_other\">http://ontology.inrae.fr/frenchcropusage/Orges_six_rangs</a></td></tr><tr class=odd><td class=val><a href=\"http://ontology.inrae.fr/frenchcropusage/Origans\" target=\"_other\">http://ontology.inrae.fr/frenchcropusage/Origans</a></td></tr><tr class=even><td class=val><a href=\"http://ontology.inrae.fr/frenchcropusage/Orties\" target=\"_other\">http://ontology.inrae.fr/frenchcropusage/Orties</a></td></tr><tr class=odd><td class=val><a href=\"http://ontology.inrae.fr/frenchcropusage/Oseilles\" target=\"_other\">http://ontology.inrae.fr/frenchcropusage/Oseilles</a></td></tr><tr class=even><td class=val><a href=\"http://ontology.inrae.fr/frenchcropusage/Palmiers\" target=\"_other\">http://ontology.inrae.fr/frenchcropusage/Palmiers</a></td></tr><tr class=odd><td class=val><a href=\"http://ontology.inrae.fr/frenchcropusage/Pamplemoussiers\" target=\"_other\">http://ontology.inrae.fr/frenchcropusage/Pamplemoussiers</a></td></tr><tr class=even><td class=val><a href=\"http://ontology.inrae.fr/frenchcropusage/Panais\" target=\"_other\">http://ontology.inrae.fr/frenchcropusage/Panais</a></td></tr><tr class=odd><td class=val><a href=\"http://ontology.inrae.fr/frenchcropusage/Papayers\" target=\"_other\">http://ontology.inrae.fr/frenchcropusage/Papayers</a></td></tr><tr class=even><td class=val><a href=\"http://ontology.inrae.fr/frenchcropusage/Paquerettes\" target=\"_other\">http://ontology.inrae.fr/frenchcropusage/Paquerettes</a></td></tr><tr class=odd><td class=val><a href=\"http://ontology.inrae.fr/frenchcropusage/Passiflores_ornementaux\" target=\"_other\">http://ontology.inrae.fr/frenchcropusage/Passiflores_ornementaux</a></td></tr><tr class=even><td class=val><a href=\"http://ontology.inrae.fr/frenchcropusage/Pasteques\" target=\"_other\">http://ontology.inrae.fr/frenchcropusage/Pasteques</a></td></tr><tr class=odd><td class=val><a href=\"http://ontology.inrae.fr/frenchcropusage/Patates_douces\" target=\"_other\">http://ontology.inrae.fr/frenchcropusage/Patates_douces</a></td></tr><tr class=even><td class=val><a href=\"http://ontology.inrae.fr/frenchcropusage/Patissons\" target=\"_other\">http://ontology.inrae.fr/frenchcropusage/Patissons</a></td></tr><tr class=odd><td class=val><a href=\"http://ontology.inrae.fr/frenchcropusage/Paturins\" target=\"_other\">http://ontology.inrae.fr/frenchcropusage/Paturins</a></td></tr><tr class=even><td class=val><a href=\"http://ontology.inrae.fr/frenchcropusage/Pavots_officinales\" target=\"_other\">http://ontology.inrae.fr/frenchcropusage/Pavots_officinales</a></td></tr><tr class=odd><td class=val><a href=\"http://ontology.inrae.fr/frenchcropusage/Pechers\" target=\"_other\">http://ontology.inrae.fr/frenchcropusage/Pechers</a></td></tr><tr class=even><td class=val><a href=\"http://ontology.inrae.fr/frenchcropusage/Pensees\" target=\"_other\">http://ontology.inrae.fr/frenchcropusage/Pensees</a></td></tr><tr class=odd><td class=val><a href=\"http://ontology.inrae.fr/frenchcropusage/Persils\" target=\"_other\">http://ontology.inrae.fr/frenchcropusage/Persils</a></td></tr><tr class=even><td class=val><a href=\"http://ontology.inrae.fr/frenchcropusage/Phacelies\" target=\"_other\">http://ontology.inrae.fr/frenchcropusage/Phacelies</a></td></tr><tr class=odd><td class=val><a href=\"http://ontology.inrae.fr/frenchcropusage/Piments\" target=\"_other\">http://ontology.inrae.fr/frenchcropusage/Piments</a></td></tr><tr class=even><td class=val><a href=\"http://ontology.inrae.fr/frenchcropusage/Pissenlits\" target=\"_other\">http://ontology.inrae.fr/frenchcropusage/Pissenlits</a></td></tr><tr class=odd><td class=val><a href=\"http://ontology.inrae.fr/frenchcropusage/Pistachiers\" target=\"_other\">http://ontology.inrae.fr/frenchcropusage/Pistachiers</a></td></tr><tr class=even><td class=val><a href=\"http://ontology.inrae.fr/frenchcropusage/Plantains_puciers\" target=\"_other\">http://ontology.inrae.fr/frenchcropusage/Plantains_puciers</a></td></tr><tr class=odd><td class=val><a href=\"http://ontology.inrae.fr/frenchcropusage/Plaqueminiers\" target=\"_other\">http://ontology.inrae.fr/frenchcropusage/Plaqueminiers</a></td></tr><tr class=even><td class=val><a href=\"http://ontology.inrae.fr/frenchcropusage/Poinsettias\" target=\"_other\">http://ontology.inrae.fr/frenchcropusage/Poinsettias</a></td></tr><tr class=odd><td class=val><a href=\"http://ontology.inrae.fr/frenchcropusage/Poireaux\" target=\"_other\">http://ontology.inrae.fr/frenchcropusage/Poireaux</a></td></tr><tr class=even><td class=val><a href=\"http://ontology.inrae.fr/frenchcropusage/Poirees\" target=\"_other\">http://ontology.inrae.fr/frenchcropusage/Poirees</a></td></tr><tr class=odd><td class=val><a href=\"http://ontology.inrae.fr/frenchcropusage/Poiriers\" target=\"_other\">http://ontology.inrae.fr/frenchcropusage/Poiriers</a></td></tr><tr class=even><td class=val><a href=\"http://ontology.inrae.fr/frenchcropusage/Pois_chiches\" target=\"_other\">http://ontology.inrae.fr/frenchcropusage/Pois_chiches</a></td></tr><tr class=odd><td class=val><a href=\"http://ontology.inrae.fr/frenchcropusage/Pois_fourragers\" target=\"_other\">http://ontology.inrae.fr/frenchcropusage/Pois_fourragers</a></td></tr><tr class=even><td class=val><a href=\"http://ontology.inrae.fr/frenchcropusage/Pois_potagers\" target=\"_other\">http://ontology.inrae.fr/frenchcropusage/Pois_potagers</a></td></tr><tr class=odd><td class=val><a href=\"http://ontology.inrae.fr/frenchcropusage/Pois_proteagineux\" target=\"_other\">http://ontology.inrae.fr/frenchcropusage/Pois_proteagineux</a></td></tr><tr class=even><td class=val><a href=\"http://ontology.inrae.fr/frenchcropusage/Poivrons\" target=\"_other\">http://ontology.inrae.fr/frenchcropusage/Poivrons</a></td></tr><tr class=odd><td class=val><a href=\"http://ontology.inrae.fr/frenchcropusage/Pomelos\" target=\"_other\">http://ontology.inrae.fr/frenchcropusage/Pomelos</a></td></tr><tr class=even><td class=val><a href=\"http://ontology.inrae.fr/frenchcropusage/Pommiers\" target=\"_other\">http://ontology.inrae.fr/frenchcropusage/Pommiers</a></td></tr><tr class=odd><td class=val><a href=\"http://ontology.inrae.fr/frenchcropusage/Potirons\" target=\"_other\">http://ontology.inrae.fr/frenchcropusage/Potirons</a></td></tr><tr class=even><td class=val><a href=\"http://ontology.inrae.fr/frenchcropusage/Pourpiers_maraichers\" target=\"_other\">http://ontology.inrae.fr/frenchcropusage/Pourpiers_maraichers</a></td></tr><tr class=odd><td class=val><a href=\"http://ontology.inrae.fr/frenchcropusage/Primeveres\" target=\"_other\">http://ontology.inrae.fr/frenchcropusage/Primeveres</a></td></tr><tr class=even><td class=val><a href=\"http://ontology.inrae.fr/frenchcropusage/Pruniers\" target=\"_other\">http://ontology.inrae.fr/frenchcropusage/Pruniers</a></td></tr><tr class=odd><td class=val><a href=\"http://ontology.inrae.fr/frenchcropusage/Quenettiers\" target=\"_other\">http://ontology.inrae.fr/frenchcropusage/Quenettiers</a></td></tr><tr class=even><td class=val><a href=\"http://ontology.inrae.fr/frenchcropusage/Quinoas\" target=\"_other\">http://ontology.inrae.fr/frenchcropusage/Quinoas</a></td></tr><tr class=odd><td class=val><a href=\"http://ontology.inrae.fr/frenchcropusage/Radis_noirs_potagers\" target=\"_other\">http://ontology.inrae.fr/frenchcropusage/Radis_noirs_potagers</a></td></tr><tr class=even><td class=val><a href=\"http://ontology.inrae.fr/frenchcropusage/Raiforts\" target=\"_other\">http://ontology.inrae.fr/frenchcropusage/Raiforts</a></td></tr><tr class=odd><td class=val><a href=\"http://ontology.inrae.fr/frenchcropusage/Ramboutans\" target=\"_other\">http://ontology.inrae.fr/frenchcropusage/Ramboutans</a></td></tr><tr class=even><td class=val><a href=\"http://ontology.inrae.fr/frenchcropusage/Ray_grass_anglais\" target=\"_other\">http://ontology.inrae.fr/frenchcropusage/Ray_grass_anglais</a></td></tr><tr class=odd><td class=val><a href=\"http://ontology.inrae.fr/frenchcropusage/Ray_grass_italie\" target=\"_other\">http://ontology.inrae.fr/frenchcropusage/Ray_grass_italie</a></td></tr><tr class=even><td class=val><a href=\"http://ontology.inrae.fr/frenchcropusage/Renoncules_cultivees\" target=\"_other\">http://ontology.inrae.fr/frenchcropusage/Renoncules_cultivees</a></td></tr><tr class=odd><td class=val><a href=\"http://ontology.inrae.fr/frenchcropusage/Ricins\" target=\"_other\">http://ontology.inrae.fr/frenchcropusage/Ricins</a></td></tr><tr class=even><td class=val><a href=\"http://ontology.inrae.fr/frenchcropusage/Riz\" target=\"_other\">http://ontology.inrae.fr/frenchcropusage/Riz</a></td></tr><tr class=odd><td class=val><a href=\"http://ontology.inrae.fr/frenchcropusage/Romarins\" target=\"_other\">http://ontology.inrae.fr/frenchcropusage/Romarins</a></td></tr><tr class=even><td class=val><a href=\"http://ontology.inrae.fr/frenchcropusage/Ronces\" target=\"_other\">http://ontology.inrae.fr/frenchcropusage/Ronces</a></td></tr><tr class=odd><td class=val><a href=\"http://ontology.inrae.fr/frenchcropusage/Roquettes\" target=\"_other\">http://ontology.inrae.fr/frenchcropusage/Roquettes</a></td></tr><tr class=even><td class=val><a href=\"http://ontology.inrae.fr/frenchcropusage/Rosiers_parfum\" target=\"_other\">http://ontology.inrae.fr/frenchcropusage/Rosiers_parfum</a></td></tr><tr class=odd><td class=val><a href=\"http://ontology.inrae.fr/frenchcropusage/Sainfoins\" target=\"_other\">http://ontology.inrae.fr/frenchcropusage/Sainfoins</a></td></tr><tr class=even><td class=val><a href=\"http://ontology.inrae.fr/frenchcropusage/Salsifis\" target=\"_other\">http://ontology.inrae.fr/frenchcropusage/Salsifis</a></td></tr><tr class=odd><td class=val><a href=\"http://ontology.inrae.fr/frenchcropusage/Sariettes\" target=\"_other\">http://ontology.inrae.fr/frenchcropusage/Sariettes</a></td></tr><tr class=even><td class=val><a href=\"http://ontology.inrae.fr/frenchcropusage/Sarrasins\" target=\"_other\">http://ontology.inrae.fr/frenchcropusage/Sarrasins</a></td></tr><tr class=odd><td class=val><a href=\"http://ontology.inrae.fr/frenchcropusage/Sauges\" target=\"_other\">http://ontology.inrae.fr/frenchcropusage/Sauges</a></td></tr><tr class=even><td class=val><a href=\"http://ontology.inrae.fr/frenchcropusage/Saules\" target=\"_other\">http://ontology.inrae.fr/frenchcropusage/Saules</a></td></tr><tr class=odd><td class=val><a href=\"http://ontology.inrae.fr/frenchcropusage/Scorsoneres\" target=\"_other\">http://ontology.inrae.fr/frenchcropusage/Scorsoneres</a></td></tr><tr class=even><td class=val><a href=\"http://ontology.inrae.fr/frenchcropusage/Seigles\" target=\"_other\">http://ontology.inrae.fr/frenchcropusage/Seigles</a></td></tr><tr class=odd><td class=val><a href=\"http://ontology.inrae.fr/frenchcropusage/Serradelles\" target=\"_other\">http://ontology.inrae.fr/frenchcropusage/Serradelles</a></td></tr><tr class=even><td class=val><a href=\"http://ontology.inrae.fr/frenchcropusage/Sesames\" target=\"_other\">http://ontology.inrae.fr/frenchcropusage/Sesames</a></td></tr><tr class=odd><td class=val><a href=\"http://ontology.inrae.fr/frenchcropusage/Sojas_oleoproteagineux\" target=\"_other\">http://ontology.inrae.fr/frenchcropusage/Sojas_oleoproteagineux</a></td></tr><tr class=even><td class=val><a href=\"http://ontology.inrae.fr/frenchcropusage/Sojas_verts\" target=\"_other\">http://ontology.inrae.fr/frenchcropusage/Sojas_verts</a></td></tr><tr class=odd><td class=val><a href=\"http://ontology.inrae.fr/frenchcropusage/Sorghos\" target=\"_other\">http://ontology.inrae.fr/frenchcropusage/Sorghos</a></td></tr><tr class=even><td class=val><a href=\"http://ontology.inrae.fr/frenchcropusage/Sorghos_grains\" target=\"_other\">http://ontology.inrae.fr/frenchcropusage/Sorghos_grains</a></td></tr><tr class=odd><td class=val><a href=\"http://ontology.inrae.fr/frenchcropusage/Surfaces_toujours_en_herbe\" target=\"_other\">http://ontology.inrae.fr/frenchcropusage/Surfaces_toujours_en_herbe</a></td></tr><tr class=even><td class=val><a href=\"http://ontology.inrae.fr/frenchcropusage/Tabac\" target=\"_other\">http://ontology.inrae.fr/frenchcropusage/Tabac</a></td></tr><tr class=odd><td class=val><a href=\"http://ontology.inrae.fr/frenchcropusage/Thyms\" target=\"_other\">http://ontology.inrae.fr/frenchcropusage/Thyms</a></td></tr><tr class=even><td class=val><a href=\"http://ontology.inrae.fr/frenchcropusage/Tomates\" target=\"_other\">http://ontology.inrae.fr/frenchcropusage/Tomates</a></td></tr><tr class=odd><td class=val><a href=\"http://ontology.inrae.fr/frenchcropusage/Topinambours\" target=\"_other\">http://ontology.inrae.fr/frenchcropusage/Topinambours</a></td></tr><tr class=even><td class=val><a href=\"http://ontology.inrae.fr/frenchcropusage/Trefles\" target=\"_other\">http://ontology.inrae.fr/frenchcropusage/Trefles</a></td></tr><tr class=odd><td class=val><a href=\"http://ontology.inrae.fr/frenchcropusage/Trefles_blancs\" target=\"_other\">http://ontology.inrae.fr/frenchcropusage/Trefles_blancs</a></td></tr><tr class=even><td class=val><a href=\"http://ontology.inrae.fr/frenchcropusage/Trefles_hybrides\" target=\"_other\">http://ontology.inrae.fr/frenchcropusage/Trefles_hybrides</a></td></tr><tr class=odd><td class=val><a href=\"http://ontology.inrae.fr/frenchcropusage/Trefles_incarnats\" target=\"_other\">http://ontology.inrae.fr/frenchcropusage/Trefles_incarnats</a></td></tr><tr class=even><td class=val><a href=\"http://ontology.inrae.fr/frenchcropusage/Trefles_micheli\" target=\"_other\">http://ontology.inrae.fr/frenchcropusage/Trefles_micheli</a></td></tr><tr class=odd><td class=val><a href=\"http://ontology.inrae.fr/frenchcropusage/Trefles_perse\" target=\"_other\">http://ontology.inrae.fr/frenchcropusage/Trefles_perse</a></td></tr><tr class=even><td class=val><a href=\"http://ontology.inrae.fr/frenchcropusage/Trefles_violets\" target=\"_other\">http://ontology.inrae.fr/frenchcropusage/Trefles_violets</a></td></tr><tr class=odd><td class=val><a href=\"http://ontology.inrae.fr/frenchcropusage/Valerianes\" target=\"_other\">http://ontology.inrae.fr/frenchcropusage/Valerianes</a></td></tr><tr class=even><td class=val><a href=\"http://ontology.inrae.fr/frenchcropusage/Vanilliers\" target=\"_other\">http://ontology.inrae.fr/frenchcropusage/Vanilliers</a></td></tr><tr class=odd><td class=val><a href=\"http://ontology.inrae.fr/frenchcropusage/Veroniques\" target=\"_other\">http://ontology.inrae.fr/frenchcropusage/Veroniques</a></td></tr><tr class=even><td class=val><a href=\"http://ontology.inrae.fr/frenchcropusage/Verveines\" target=\"_other\">http://ontology.inrae.fr/frenchcropusage/Verveines</a></td></tr><tr class=odd><td class=val><a href=\"http://ontology.inrae.fr/frenchcropusage/Vesces_fourrageres\" target=\"_other\">http://ontology.inrae.fr/frenchcropusage/Vesces_fourrageres</a></td></tr><tr class=even><td class=val><a href=\"http://ontology.inrae.fr/frenchcropusage/Vetivers\" target=\"_other\">http://ontology.inrae.fr/frenchcropusage/Vetivers</a></td></tr><tr class=odd><td class=val><a href=\"http://ontology.inrae.fr/frenchcropusage/Vignes_agrement\" target=\"_other\">http://ontology.inrae.fr/frenchcropusage/Vignes_agrement</a></td></tr><tr class=even><td class=val><a href=\"http://ontology.inrae.fr/frenchcropusage/Vignes_cultivees\" target=\"_other\">http://ontology.inrae.fr/frenchcropusage/Vignes_cultivees</a></td></tr><tr class=odd><td class=val><a href=\"http://ontology.inrae.fr/frenchcropusage/Violettes_odorantes\" target=\"_other\">http://ontology.inrae.fr/frenchcropusage/Violettes_odorantes</a></td></tr><tr class=even><td class=val><a href=\"http://ontology.inrae.fr/frenchcropusage/Ylang_ylangs\" target=\"_other\">http://ontology.inrae.fr/frenchcropusage/Ylang_ylangs</a></td></tr></table><div class=\"tinfo\">Total: 300, Shown: 300</div></div>"
      ]
     },
     "metadata": {},
     "output_type": "display_data"
    }
   ],
   "source": [
    "select ?fcu where {\n",
    "    service <http://graph.i3s.unice.fr/repositories/taxref-ld> {\n",
    "        select distinct ?fcu\n",
    "        from <http://taxref.mnhn.fr/lod/graph/alignment-fcu-precision>\n",
    "        { ?fcu <http://taxref.mnhn.fr/lod/property/candidateAlignment> ?taxon } \n",
    "    }\n",
    "} order by ?fcu"
   ]
  },
  {
   "cell_type": "markdown",
   "metadata": {},
   "source": [
    "### Count the FCU concepts with NO alignment"
   ]
  },
  {
   "cell_type": "code",
   "execution_count": 53,
   "metadata": {},
   "outputs": [
    {
     "data": {
      "text/html": [
       "<div class=\"krn-spql\"><table><tr class=hdr><th>count</th></tr><tr class=odd><td class=val>147</td></tr></table><div class=\"tinfo\">Total: 1, Shown: 1</div></div>"
      ]
     },
     "metadata": {},
     "output_type": "display_data"
    }
   ],
   "source": [
    "select (count(distinct ?fcu) as ?count) where {\n",
    "    \n",
    "    { service <http://ontology.inrae.fr/frenchcropusage/sparql> {\n",
    "        <http://ontology.inrae.fr/frenchcropusage/Usages_plantes_cultivees> skos:narrower+ ?fcu.\n",
    "        # Keep only leaves or their direct parent but not above\n",
    "        FILTER (NOT EXISTS { ?fcu skos:narrower/skos:narrower ?child. })\n",
    "    }}\n",
    "    minus \n",
    "    { service <http://graph.i3s.unice.fr/repositories/taxref-ld> {\n",
    "        select distinct ?fcu\n",
    "        from <http://taxref.mnhn.fr/lod/graph/alignment-fcu-precision>\n",
    "        where { ?fcu <http://taxref.mnhn.fr/lod/property/candidateAlignment> ?taxon }\n",
    "    }}\n",
    "}"
   ]
  },
  {
   "cell_type": "code",
   "execution_count": 34,
   "metadata": {
    "collapsed": true,
    "jupyter": {
     "outputs_hidden": true
    }
   },
   "outputs": [
    {
     "data": {
      "text/html": [
       "<div class=\"krn-spql\"><table><tr class=hdr><th>fcu</th></tr><tr class=odd><td class=val><a href=\"http://ontology.inrae.fr/frenchcropusage/Agrumes\" target=\"_other\">http://ontology.inrae.fr/frenchcropusage/Agrumes</a></td></tr><tr class=even><td class=val><a href=\"http://ontology.inrae.fr/frenchcropusage/Arboriculture_fruitiere_tropicale\" target=\"_other\">http://ontology.inrae.fr/frenchcropusage/Arboriculture_fruitiere_tropicale</a></td></tr><tr class=odd><td class=val><a href=\"http://ontology.inrae.fr/frenchcropusage/Arboriculture_ornementale\" target=\"_other\">http://ontology.inrae.fr/frenchcropusage/Arboriculture_ornementale</a></td></tr><tr class=even><td class=val><a href=\"http://ontology.inrae.fr/frenchcropusage/Arbres_baies\" target=\"_other\">http://ontology.inrae.fr/frenchcropusage/Arbres_baies</a></td></tr><tr class=odd><td class=val><a href=\"http://ontology.inrae.fr/frenchcropusage/Arbres_fruits_coques\" target=\"_other\">http://ontology.inrae.fr/frenchcropusage/Arbres_fruits_coques</a></td></tr><tr class=even><td class=val><a href=\"http://ontology.inrae.fr/frenchcropusage/Arbres_noyaux\" target=\"_other\">http://ontology.inrae.fr/frenchcropusage/Arbres_noyaux</a></td></tr><tr class=odd><td class=val><a href=\"http://ontology.inrae.fr/frenchcropusage/Arbres_pepins\" target=\"_other\">http://ontology.inrae.fr/frenchcropusage/Arbres_pepins</a></td></tr><tr class=even><td class=val><a href=\"http://ontology.inrae.fr/frenchcropusage/Arroches\" target=\"_other\">http://ontology.inrae.fr/frenchcropusage/Arroches</a></td></tr><tr class=odd><td class=val><a href=\"http://ontology.inrae.fr/frenchcropusage/Bananiers_musa\" target=\"_other\">http://ontology.inrae.fr/frenchcropusage/Bananiers_musa</a></td></tr><tr class=even><td class=val><a href=\"http://ontology.inrae.fr/frenchcropusage/Betteraves_potageres\" target=\"_other\">http://ontology.inrae.fr/frenchcropusage/Betteraves_potageres</a></td></tr><tr class=odd><td class=val><a href=\"http://ontology.inrae.fr/frenchcropusage/Bles_durs_hiver\" target=\"_other\">http://ontology.inrae.fr/frenchcropusage/Bles_durs_hiver</a></td></tr><tr class=even><td class=val><a href=\"http://ontology.inrae.fr/frenchcropusage/Bles_durs_printemps\" target=\"_other\">http://ontology.inrae.fr/frenchcropusage/Bles_durs_printemps</a></td></tr><tr class=odd><td class=val><a href=\"http://ontology.inrae.fr/frenchcropusage/Brocolis_raves\" target=\"_other\">http://ontology.inrae.fr/frenchcropusage/Brocolis_raves</a></td></tr><tr class=even><td class=val><a href=\"http://ontology.inrae.fr/frenchcropusage/Canneliers\" target=\"_other\">http://ontology.inrae.fr/frenchcropusage/Canneliers</a></td></tr><tr class=odd><td class=val><a href=\"http://ontology.inrae.fr/frenchcropusage/Capriers\" target=\"_other\">http://ontology.inrae.fr/frenchcropusage/Capriers</a></td></tr><tr class=even><td class=val><a href=\"http://ontology.inrae.fr/frenchcropusage/Carottes_fourrageres\" target=\"_other\">http://ontology.inrae.fr/frenchcropusage/Carottes_fourrageres</a></td></tr><tr class=odd><td class=val><a href=\"http://ontology.inrae.fr/frenchcropusage/Carottes_potageres\" target=\"_other\">http://ontology.inrae.fr/frenchcropusage/Carottes_potageres</a></td></tr><tr class=even><td class=val><a href=\"http://ontology.inrae.fr/frenchcropusage/Carthames\" target=\"_other\">http://ontology.inrae.fr/frenchcropusage/Carthames</a></td></tr><tr class=odd><td class=val><a href=\"http://ontology.inrae.fr/frenchcropusage/Chanvres_fibres\" target=\"_other\">http://ontology.inrae.fr/frenchcropusage/Chanvres_fibres</a></td></tr><tr class=even><td class=val><a href=\"http://ontology.inrae.fr/frenchcropusage/Chanvres_oleagineux\" target=\"_other\">http://ontology.inrae.fr/frenchcropusage/Chanvres_oleagineux</a></td></tr><tr class=odd><td class=val><a href=\"http://ontology.inrae.fr/frenchcropusage/Choux_frisés\" target=\"_other\">http://ontology.inrae.fr/frenchcropusage/Choux_frisés</a></td></tr><tr class=even><td class=val><a href=\"http://ontology.inrae.fr/frenchcropusage/Choux_navets_chair_blanche\" target=\"_other\">http://ontology.inrae.fr/frenchcropusage/Choux_navets_chair_blanche</a></td></tr><tr class=odd><td class=val><a href=\"http://ontology.inrae.fr/frenchcropusage/Choux_romanesco\" target=\"_other\">http://ontology.inrae.fr/frenchcropusage/Choux_romanesco</a></td></tr><tr class=even><td class=val><a href=\"http://ontology.inrae.fr/frenchcropusage/Chrysanthemes\" target=\"_other\">http://ontology.inrae.fr/frenchcropusage/Chrysanthemes</a></td></tr><tr class=odd><td class=val><a href=\"http://ontology.inrae.fr/frenchcropusage/Clementiniers\" target=\"_other\">http://ontology.inrae.fr/frenchcropusage/Clementiniers</a></td></tr><tr class=even><td class=val><a href=\"http://ontology.inrae.fr/frenchcropusage/Colzas_fourragers\" target=\"_other\">http://ontology.inrae.fr/frenchcropusage/Colzas_fourragers</a></td></tr><tr class=odd><td class=val><a href=\"http://ontology.inrae.fr/frenchcropusage/Colzas_fourragers_hiver\" target=\"_other\">http://ontology.inrae.fr/frenchcropusage/Colzas_fourragers_hiver</a></td></tr><tr class=even><td class=val><a href=\"http://ontology.inrae.fr/frenchcropusage/Colzas_fourragers_printemps\" target=\"_other\">http://ontology.inrae.fr/frenchcropusage/Colzas_fourragers_printemps</a></td></tr><tr class=odd><td class=val><a href=\"http://ontology.inrae.fr/frenchcropusage/Colzas_oleagineux\" target=\"_other\">http://ontology.inrae.fr/frenchcropusage/Colzas_oleagineux</a></td></tr><tr class=even><td class=val><a href=\"http://ontology.inrae.fr/frenchcropusage/Colzas_oleagineux_printemps\" target=\"_other\">http://ontology.inrae.fr/frenchcropusage/Colzas_oleagineux_printemps</a></td></tr><tr class=odd><td class=val><a href=\"http://ontology.inrae.fr/frenchcropusage/Courges_butternut\" target=\"_other\">http://ontology.inrae.fr/frenchcropusage/Courges_butternut</a></td></tr><tr class=even><td class=val><a href=\"http://ontology.inrae.fr/frenchcropusage/Cressons_alenois_service\" target=\"_other\">http://ontology.inrae.fr/frenchcropusage/Cressons_alenois_service</a></td></tr><tr class=odd><td class=val><a href=\"http://ontology.inrae.fr/frenchcropusage/Cultures_jardins_familiaux\" target=\"_other\">http://ontology.inrae.fr/frenchcropusage/Cultures_jardins_familiaux</a></td></tr><tr class=even><td class=val><a href=\"http://ontology.inrae.fr/frenchcropusage/Cultures_plein_champs\" target=\"_other\">http://ontology.inrae.fr/frenchcropusage/Cultures_plein_champs</a></td></tr><tr class=odd><td class=val><a href=\"http://ontology.inrae.fr/frenchcropusage/Cultures_vivrieres\" target=\"_other\">http://ontology.inrae.fr/frenchcropusage/Cultures_vivrieres</a></td></tr><tr class=even><td class=val><a href=\"http://ontology.inrae.fr/frenchcropusage/Echalions\" target=\"_other\">http://ontology.inrae.fr/frenchcropusage/Echalions</a></td></tr><tr class=odd><td class=val><a href=\"http://ontology.inrae.fr/frenchcropusage/Elaeagnus\" target=\"_other\">http://ontology.inrae.fr/frenchcropusage/Elaeagnus</a></td></tr><tr class=even><td class=val><a href=\"http://ontology.inrae.fr/frenchcropusage/Fenugrecs_condimentaires\" target=\"_other\">http://ontology.inrae.fr/frenchcropusage/Fenugrecs_condimentaires</a></td></tr><tr class=odd><td class=val><a href=\"http://ontology.inrae.fr/frenchcropusage/Fenugrecs_fourragers\" target=\"_other\">http://ontology.inrae.fr/frenchcropusage/Fenugrecs_fourragers</a></td></tr><tr class=even><td class=val><a href=\"http://ontology.inrae.fr/frenchcropusage/Feuillus\" target=\"_other\">http://ontology.inrae.fr/frenchcropusage/Feuillus</a></td></tr><tr class=odd><td class=val><a href=\"http://ontology.inrae.fr/frenchcropusage/Feveroles_proteagineux\" target=\"_other\">http://ontology.inrae.fr/frenchcropusage/Feveroles_proteagineux</a></td></tr><tr class=even><td class=val><a href=\"http://ontology.inrae.fr/frenchcropusage/Feveroles_proteagineux_printemps\" target=\"_other\">http://ontology.inrae.fr/frenchcropusage/Feveroles_proteagineux_printemps</a></td></tr><tr class=odd><td class=val><a href=\"http://ontology.inrae.fr/frenchcropusage/Feveroles_protéagineux_hiver\" target=\"_other\">http://ontology.inrae.fr/frenchcropusage/Feveroles_protéagineux_hiver</a></td></tr><tr class=even><td class=val><a href=\"http://ontology.inrae.fr/frenchcropusage/Feves_proteagineux\" target=\"_other\">http://ontology.inrae.fr/frenchcropusage/Feves_proteagineux</a></td></tr><tr class=odd><td class=val><a href=\"http://ontology.inrae.fr/frenchcropusage/Fleoles\" target=\"_other\">http://ontology.inrae.fr/frenchcropusage/Fleoles</a></td></tr><tr class=even><td class=val><a href=\"http://ontology.inrae.fr/frenchcropusage/Frenes\" target=\"_other\">http://ontology.inrae.fr/frenchcropusage/Frenes</a></td></tr><tr class=odd><td class=val><a href=\"http://ontology.inrae.fr/frenchcropusage/Gels\" target=\"_other\">http://ontology.inrae.fr/frenchcropusage/Gels</a></td></tr><tr class=even><td class=val><a href=\"http://ontology.inrae.fr/frenchcropusage/Gesses_service\" target=\"_other\">http://ontology.inrae.fr/frenchcropusage/Gesses_service</a></td></tr><tr class=odd><td class=val><a href=\"http://ontology.inrae.fr/frenchcropusage/Hamamelis\" target=\"_other\">http://ontology.inrae.fr/frenchcropusage/Hamamelis</a></td></tr><tr class=even><td class=val><a href=\"http://ontology.inrae.fr/frenchcropusage/Haricots_secs\" target=\"_other\">http://ontology.inrae.fr/frenchcropusage/Haricots_secs</a></td></tr><tr class=odd><td class=val><a href=\"http://ontology.inrae.fr/frenchcropusage/Hibiscus_medicinal\" target=\"_other\">http://ontology.inrae.fr/frenchcropusage/Hibiscus_medicinal</a></td></tr><tr class=even><td class=val><a href=\"http://ontology.inrae.fr/frenchcropusage/Ignames\" target=\"_other\">http://ontology.inrae.fr/frenchcropusage/Ignames</a></td></tr><tr class=odd><td class=val><a href=\"http://ontology.inrae.fr/frenchcropusage/Ispaghuls\" target=\"_other\">http://ontology.inrae.fr/frenchcropusage/Ispaghuls</a></td></tr><tr class=even><td class=val><a href=\"http://ontology.inrae.fr/frenchcropusage/Jardins\" target=\"_other\">http://ontology.inrae.fr/frenchcropusage/Jardins</a></td></tr><tr class=odd><td class=val><a href=\"http://ontology.inrae.fr/frenchcropusage/Jasmins_ornementaux\" target=\"_other\">http://ontology.inrae.fr/frenchcropusage/Jasmins_ornementaux</a></td></tr><tr class=even><td class=val><a href=\"http://ontology.inrae.fr/frenchcropusage/Jasmins_parfum\" target=\"_other\">http://ontology.inrae.fr/frenchcropusage/Jasmins_parfum</a></td></tr><tr class=odd><td class=val><a href=\"http://ontology.inrae.fr/frenchcropusage/Lavandes\" target=\"_other\">http://ontology.inrae.fr/frenchcropusage/Lavandes</a></td></tr><tr class=even><td class=val><a href=\"http://ontology.inrae.fr/frenchcropusage/Legumes_exotiques\" target=\"_other\">http://ontology.inrae.fr/frenchcropusage/Legumes_exotiques</a></td></tr><tr class=odd><td class=val><a href=\"http://ontology.inrae.fr/frenchcropusage/Legumes_fleurs\" target=\"_other\">http://ontology.inrae.fr/frenchcropusage/Legumes_fleurs</a></td></tr><tr class=even><td class=val><a href=\"http://ontology.inrae.fr/frenchcropusage/Legumes_racines\" target=\"_other\">http://ontology.inrae.fr/frenchcropusage/Legumes_racines</a></td></tr><tr class=odd><td class=val><a href=\"http://ontology.inrae.fr/frenchcropusage/Legumes_tiges\" target=\"_other\">http://ontology.inrae.fr/frenchcropusage/Legumes_tiges</a></td></tr><tr class=even><td class=val><a href=\"http://ontology.inrae.fr/frenchcropusage/Legumes_tubercules\" target=\"_other\">http://ontology.inrae.fr/frenchcropusage/Legumes_tubercules</a></td></tr><tr class=odd><td class=val><a href=\"http://ontology.inrae.fr/frenchcropusage/Lentilles_potageres\" target=\"_other\">http://ontology.inrae.fr/frenchcropusage/Lentilles_potageres</a></td></tr><tr class=even><td class=val><a href=\"http://ontology.inrae.fr/frenchcropusage/Lins_fibres\" target=\"_other\">http://ontology.inrae.fr/frenchcropusage/Lins_fibres</a></td></tr><tr class=odd><td class=val><a href=\"http://ontology.inrae.fr/frenchcropusage/Lins_fibres_hiver\" target=\"_other\">http://ontology.inrae.fr/frenchcropusage/Lins_fibres_hiver</a></td></tr><tr class=even><td class=val><a href=\"http://ontology.inrae.fr/frenchcropusage/Lins_fibres_printemps\" target=\"_other\">http://ontology.inrae.fr/frenchcropusage/Lins_fibres_printemps</a></td></tr><tr class=odd><td class=val><a href=\"http://ontology.inrae.fr/frenchcropusage/Lins_oleagineux\" target=\"_other\">http://ontology.inrae.fr/frenchcropusage/Lins_oleagineux</a></td></tr><tr class=even><td class=val><a href=\"http://ontology.inrae.fr/frenchcropusage/Lupins_fibres\" target=\"_other\">http://ontology.inrae.fr/frenchcropusage/Lupins_fibres</a></td></tr><tr class=odd><td class=val><a href=\"http://ontology.inrae.fr/frenchcropusage/Lupins_fourragers_hiver\" target=\"_other\">http://ontology.inrae.fr/frenchcropusage/Lupins_fourragers_hiver</a></td></tr><tr class=even><td class=val><a href=\"http://ontology.inrae.fr/frenchcropusage/Lupins_fourragers_printemps\" target=\"_other\">http://ontology.inrae.fr/frenchcropusage/Lupins_fourragers_printemps</a></td></tr><tr class=odd><td class=val><a href=\"http://ontology.inrae.fr/frenchcropusage/Lupins_ornementaux\" target=\"_other\">http://ontology.inrae.fr/frenchcropusage/Lupins_ornementaux</a></td></tr><tr class=even><td class=val><a href=\"http://ontology.inrae.fr/frenchcropusage/Lysanthius\" target=\"_other\">http://ontology.inrae.fr/frenchcropusage/Lysanthius</a></td></tr><tr class=odd><td class=val><a href=\"http://ontology.inrae.fr/frenchcropusage/Mais_cereales\" target=\"_other\">http://ontology.inrae.fr/frenchcropusage/Mais_cereales</a></td></tr><tr class=even><td class=val><a href=\"http://ontology.inrae.fr/frenchcropusage/Mais_doux\" target=\"_other\">http://ontology.inrae.fr/frenchcropusage/Mais_doux</a></td></tr><tr class=odd><td class=val><a href=\"http://ontology.inrae.fr/frenchcropusage/Mais_fourrage\" target=\"_other\">http://ontology.inrae.fr/frenchcropusage/Mais_fourrage</a></td></tr><tr class=even><td class=val><a href=\"http://ontology.inrae.fr/frenchcropusage/Mais_grain\" target=\"_other\">http://ontology.inrae.fr/frenchcropusage/Mais_grain</a></td></tr><tr class=odd><td class=val><a href=\"http://ontology.inrae.fr/frenchcropusage/Mais_popcorn\" target=\"_other\">http://ontology.inrae.fr/frenchcropusage/Mais_popcorn</a></td></tr><tr class=even><td class=val><a href=\"http://ontology.inrae.fr/frenchcropusage/Maraichage\" target=\"_other\">http://ontology.inrae.fr/frenchcropusage/Maraichage</a></td></tr><tr class=odd><td class=val><a href=\"http://ontology.inrae.fr/frenchcropusage/Mescluns\" target=\"_other\">http://ontology.inrae.fr/frenchcropusage/Mescluns</a></td></tr><tr class=even><td class=val><a href=\"http://ontology.inrae.fr/frenchcropusage/Meteils\" target=\"_other\">http://ontology.inrae.fr/frenchcropusage/Meteils</a></td></tr><tr class=odd><td class=val><a href=\"http://ontology.inrae.fr/frenchcropusage/Moutardes_blanches_fourrageres\" target=\"_other\">http://ontology.inrae.fr/frenchcropusage/Moutardes_blanches_fourrageres</a></td></tr><tr class=even><td class=val><a href=\"http://ontology.inrae.fr/frenchcropusage/Moutardes_blanches_oleagineuses\" target=\"_other\">http://ontology.inrae.fr/frenchcropusage/Moutardes_blanches_oleagineuses</a></td></tr><tr class=odd><td class=val><a href=\"http://ontology.inrae.fr/frenchcropusage/Moutardes_blanches_service\" target=\"_other\">http://ontology.inrae.fr/frenchcropusage/Moutardes_blanches_service</a></td></tr><tr class=even><td class=val><a href=\"http://ontology.inrae.fr/frenchcropusage/Moutardes_fourrageres\" target=\"_other\">http://ontology.inrae.fr/frenchcropusage/Moutardes_fourrageres</a></td></tr><tr class=odd><td class=val><a href=\"http://ontology.inrae.fr/frenchcropusage/Moutardes_oleagineuses\" target=\"_other\">http://ontology.inrae.fr/frenchcropusage/Moutardes_oleagineuses</a></td></tr><tr class=even><td class=val><a href=\"http://ontology.inrae.fr/frenchcropusage/Navettes_fourrageres\" target=\"_other\">http://ontology.inrae.fr/frenchcropusage/Navettes_fourrageres</a></td></tr><tr class=odd><td class=val><a href=\"http://ontology.inrae.fr/frenchcropusage/Navettes_fourrageres_hiver\" target=\"_other\">http://ontology.inrae.fr/frenchcropusage/Navettes_fourrageres_hiver</a></td></tr><tr class=even><td class=val><a href=\"http://ontology.inrae.fr/frenchcropusage/Navettes_oleagineuses\" target=\"_other\">http://ontology.inrae.fr/frenchcropusage/Navettes_oleagineuses</a></td></tr><tr class=odd><td class=val><a href=\"http://ontology.inrae.fr/frenchcropusage/Navettes_oleagineuses_ete\" target=\"_other\">http://ontology.inrae.fr/frenchcropusage/Navettes_oleagineuses_ete</a></td></tr><tr class=even><td class=val><a href=\"http://ontology.inrae.fr/frenchcropusage/Navettes_oleagineuses_hiver\" target=\"_other\">http://ontology.inrae.fr/frenchcropusage/Navettes_oleagineuses_hiver</a></td></tr><tr class=odd><td class=val><a href=\"http://ontology.inrae.fr/frenchcropusage/Nigers_oleagineux\" target=\"_other\">http://ontology.inrae.fr/frenchcropusage/Nigers_oleagineux</a></td></tr><tr class=even><td class=val><a href=\"http://ontology.inrae.fr/frenchcropusage/Oliviers_ornementaux\" target=\"_other\">http://ontology.inrae.fr/frenchcropusage/Oliviers_ornementaux</a></td></tr><tr class=odd><td class=val><a href=\"http://ontology.inrae.fr/frenchcropusage/Orges_deux_rangs_hiver\" target=\"_other\">http://ontology.inrae.fr/frenchcropusage/Orges_deux_rangs_hiver</a></td></tr><tr class=even><td class=val><a href=\"http://ontology.inrae.fr/frenchcropusage/Orges_deux_rangs_printemps\" target=\"_other\">http://ontology.inrae.fr/frenchcropusage/Orges_deux_rangs_printemps</a></td></tr><tr class=odd><td class=val><a href=\"http://ontology.inrae.fr/frenchcropusage/Orges_six_rangs_hiver\" target=\"_other\">http://ontology.inrae.fr/frenchcropusage/Orges_six_rangs_hiver</a></td></tr><tr class=even><td class=val><a href=\"http://ontology.inrae.fr/frenchcropusage/Passiflores_medicinales\" target=\"_other\">http://ontology.inrae.fr/frenchcropusage/Passiflores_medicinales</a></td></tr><tr class=odd><td class=val><a href=\"http://ontology.inrae.fr/frenchcropusage/Petits_fruits\" target=\"_other\">http://ontology.inrae.fr/frenchcropusage/Petits_fruits</a></td></tr><tr class=even><td class=val><a href=\"http://ontology.inrae.fr/frenchcropusage/Petits_pois\" target=\"_other\">http://ontology.inrae.fr/frenchcropusage/Petits_pois</a></td></tr><tr class=odd><td class=val><a href=\"http://ontology.inrae.fr/frenchcropusage/Photinies\" target=\"_other\">http://ontology.inrae.fr/frenchcropusage/Photinies</a></td></tr><tr class=even><td class=val><a href=\"http://ontology.inrae.fr/frenchcropusage/Pins\" target=\"_other\">http://ontology.inrae.fr/frenchcropusage/Pins</a></td></tr><tr class=odd><td class=val><a href=\"http://ontology.inrae.fr/frenchcropusage/Pivoines_medicinales\" target=\"_other\">http://ontology.inrae.fr/frenchcropusage/Pivoines_medicinales</a></td></tr><tr class=even><td class=val><a href=\"http://ontology.inrae.fr/frenchcropusage/Pivoines_ornementales\" target=\"_other\">http://ontology.inrae.fr/frenchcropusage/Pivoines_ornementales</a></td></tr><tr class=odd><td class=val><a href=\"http://ontology.inrae.fr/frenchcropusage/Plantes_aromatiques\" target=\"_other\">http://ontology.inrae.fr/frenchcropusage/Plantes_aromatiques</a></td></tr><tr class=even><td class=val><a href=\"http://ontology.inrae.fr/frenchcropusage/Plantes_medicinales\" target=\"_other\">http://ontology.inrae.fr/frenchcropusage/Plantes_medicinales</a></td></tr><tr class=odd><td class=val><a href=\"http://ontology.inrae.fr/frenchcropusage/Pois_fourragers_hiver\" target=\"_other\">http://ontology.inrae.fr/frenchcropusage/Pois_fourragers_hiver</a></td></tr><tr class=even><td class=val><a href=\"http://ontology.inrae.fr/frenchcropusage/Pois_fourragers_printemps\" target=\"_other\">http://ontology.inrae.fr/frenchcropusage/Pois_fourragers_printemps</a></td></tr><tr class=odd><td class=val><a href=\"http://ontology.inrae.fr/frenchcropusage/Pois_mangetout\" target=\"_other\">http://ontology.inrae.fr/frenchcropusage/Pois_mangetout</a></td></tr><tr class=even><td class=val><a href=\"http://ontology.inrae.fr/frenchcropusage/Pois_proteagineux_hiver\" target=\"_other\">http://ontology.inrae.fr/frenchcropusage/Pois_proteagineux_hiver</a></td></tr><tr class=odd><td class=val><a href=\"http://ontology.inrae.fr/frenchcropusage/Pois_proteagineux_printemps\" target=\"_other\">http://ontology.inrae.fr/frenchcropusage/Pois_proteagineux_printemps</a></td></tr><tr class=even><td class=val><a href=\"http://ontology.inrae.fr/frenchcropusage/Pois_secs\" target=\"_other\">http://ontology.inrae.fr/frenchcropusage/Pois_secs</a></td></tr><tr class=odd><td class=val><a href=\"http://ontology.inrae.fr/frenchcropusage/Pommes_de_terre_potageres\" target=\"_other\">http://ontology.inrae.fr/frenchcropusage/Pommes_de_terre_potageres</a></td></tr><tr class=even><td class=val><a href=\"http://ontology.inrae.fr/frenchcropusage/Pommes_terre_feculieres\" target=\"_other\">http://ontology.inrae.fr/frenchcropusage/Pommes_terre_feculieres</a></td></tr><tr class=odd><td class=val><a href=\"http://ontology.inrae.fr/frenchcropusage/Potimarrons\" target=\"_other\">http://ontology.inrae.fr/frenchcropusage/Potimarrons</a></td></tr><tr class=even><td class=val><a href=\"http://ontology.inrae.fr/frenchcropusage/Prairies_artificielles\" target=\"_other\">http://ontology.inrae.fr/frenchcropusage/Prairies_artificielles</a></td></tr><tr class=odd><td class=val><a href=\"http://ontology.inrae.fr/frenchcropusage/Prairies_naturelles\" target=\"_other\">http://ontology.inrae.fr/frenchcropusage/Prairies_naturelles</a></td></tr><tr class=even><td class=val><a href=\"http://ontology.inrae.fr/frenchcropusage/Prairies_permanentes\" target=\"_other\">http://ontology.inrae.fr/frenchcropusage/Prairies_permanentes</a></td></tr><tr class=odd><td class=val><a href=\"http://ontology.inrae.fr/frenchcropusage/Radis_chinois\" target=\"_other\">http://ontology.inrae.fr/frenchcropusage/Radis_chinois</a></td></tr><tr class=even><td class=val><a href=\"http://ontology.inrae.fr/frenchcropusage/Radis_fourragers\" target=\"_other\">http://ontology.inrae.fr/frenchcropusage/Radis_fourragers</a></td></tr><tr class=odd><td class=val><a href=\"http://ontology.inrae.fr/frenchcropusage/Radis_potagers\" target=\"_other\">http://ontology.inrae.fr/frenchcropusage/Radis_potagers</a></td></tr><tr class=even><td class=val><a href=\"http://ontology.inrae.fr/frenchcropusage/Radis_raves\" target=\"_other\">http://ontology.inrae.fr/frenchcropusage/Radis_raves</a></td></tr><tr class=odd><td class=val><a href=\"http://ontology.inrae.fr/frenchcropusage/Ray_grass_gazon\" target=\"_other\">http://ontology.inrae.fr/frenchcropusage/Ray_grass_gazon</a></td></tr><tr class=even><td class=val><a href=\"http://ontology.inrae.fr/frenchcropusage/Ray_grass_prairie\" target=\"_other\">http://ontology.inrae.fr/frenchcropusage/Ray_grass_prairie</a></td></tr><tr class=odd><td class=val><a href=\"http://ontology.inrae.fr/frenchcropusage/Rhubarbes\" target=\"_other\">http://ontology.inrae.fr/frenchcropusage/Rhubarbes</a></td></tr><tr class=even><td class=val><a href=\"http://ontology.inrae.fr/frenchcropusage/Rosiers_ornementaux\" target=\"_other\">http://ontology.inrae.fr/frenchcropusage/Rosiers_ornementaux</a></td></tr><tr class=odd><td class=val><a href=\"http://ontology.inrae.fr/frenchcropusage/Seigles_hiver\" target=\"_other\">http://ontology.inrae.fr/frenchcropusage/Seigles_hiver</a></td></tr><tr class=even><td class=val><a href=\"http://ontology.inrae.fr/frenchcropusage/Seigles_printemps\" target=\"_other\">http://ontology.inrae.fr/frenchcropusage/Seigles_printemps</a></td></tr><tr class=odd><td class=val><a href=\"http://ontology.inrae.fr/frenchcropusage/Semences\" target=\"_other\">http://ontology.inrae.fr/frenchcropusage/Semences</a></td></tr><tr class=even><td class=val><a href=\"http://ontology.inrae.fr/frenchcropusage/Silphies_perfoliees\" target=\"_other\">http://ontology.inrae.fr/frenchcropusage/Silphies_perfoliees</a></td></tr><tr class=odd><td class=val><a href=\"http://ontology.inrae.fr/frenchcropusage/Sojas_fourragers\" target=\"_other\">http://ontology.inrae.fr/frenchcropusage/Sojas_fourragers</a></td></tr><tr class=even><td class=val><a href=\"http://ontology.inrae.fr/frenchcropusage/Sorghos_fourragers\" target=\"_other\">http://ontology.inrae.fr/frenchcropusage/Sorghos_fourragers</a></td></tr><tr class=odd><td class=val><a href=\"http://ontology.inrae.fr/frenchcropusage/Sureaux\" target=\"_other\">http://ontology.inrae.fr/frenchcropusage/Sureaux</a></td></tr><tr class=even><td class=val><a href=\"http://ontology.inrae.fr/frenchcropusage/Tangors\" target=\"_other\">http://ontology.inrae.fr/frenchcropusage/Tangors</a></td></tr><tr class=odd><td class=val><a href=\"http://ontology.inrae.fr/frenchcropusage/Tetragorne_cornue\" target=\"_other\">http://ontology.inrae.fr/frenchcropusage/Tetragorne_cornue</a></td></tr><tr class=even><td class=val><a href=\"http://ontology.inrae.fr/frenchcropusage/Tilleuls\" target=\"_other\">http://ontology.inrae.fr/frenchcropusage/Tilleuls</a></td></tr><tr class=odd><td class=val><a href=\"http://ontology.inrae.fr/frenchcropusage/Tournesol_oleagineux\" target=\"_other\">http://ontology.inrae.fr/frenchcropusage/Tournesol_oleagineux</a></td></tr><tr class=even><td class=val><a href=\"http://ontology.inrae.fr/frenchcropusage/Tournesols_fourragers\" target=\"_other\">http://ontology.inrae.fr/frenchcropusage/Tournesols_fourragers</a></td></tr><tr class=odd><td class=val><a href=\"http://ontology.inrae.fr/frenchcropusage/Triticales\" target=\"_other\">http://ontology.inrae.fr/frenchcropusage/Triticales</a></td></tr><tr class=even><td class=val><a href=\"http://ontology.inrae.fr/frenchcropusage/Triticales_hiver\" target=\"_other\">http://ontology.inrae.fr/frenchcropusage/Triticales_hiver</a></td></tr><tr class=odd><td class=val><a href=\"http://ontology.inrae.fr/frenchcropusage/Triticales_printemps\" target=\"_other\">http://ontology.inrae.fr/frenchcropusage/Triticales_printemps</a></td></tr><tr class=even><td class=val><a href=\"http://ontology.inrae.fr/frenchcropusage/Vignes_cuve\" target=\"_other\">http://ontology.inrae.fr/frenchcropusage/Vignes_cuve</a></td></tr><tr class=odd><td class=val><a href=\"http://ontology.inrae.fr/frenchcropusage/Vignes_jus\" target=\"_other\">http://ontology.inrae.fr/frenchcropusage/Vignes_jus</a></td></tr><tr class=even><td class=val><a href=\"http://ontology.inrae.fr/frenchcropusage/Vignes_rouges\" target=\"_other\">http://ontology.inrae.fr/frenchcropusage/Vignes_rouges</a></td></tr><tr class=odd><td class=val><a href=\"http://ontology.inrae.fr/frenchcropusage/Vignes_table\" target=\"_other\">http://ontology.inrae.fr/frenchcropusage/Vignes_table</a></td></tr><tr class=even><td class=val><a href=\"http://ontology.inrae.fr/frenchcropusage/X_festulolium\" target=\"_other\">http://ontology.inrae.fr/frenchcropusage/X_festulolium</a></td></tr><tr class=odd><td class=val><a href=\"http://ontology.inrae.fr/frenchcropusage/Zones_non_agricoles\" target=\"_other\">http://ontology.inrae.fr/frenchcropusage/Zones_non_agricoles</a></td></tr><tr class=even><td class=val><a href=\"http://ontology.inrae.fr/frenchcropusage/lins_oleagineux_hiver\" target=\"_other\">http://ontology.inrae.fr/frenchcropusage/lins_oleagineux_hiver</a></td></tr><tr class=odd><td class=val><a href=\"http://ontology.inrae.fr/frenchcropusage/lins_oleagineux_printemps\" target=\"_other\">http://ontology.inrae.fr/frenchcropusage/lins_oleagineux_printemps</a></td></tr></table><div class=\"tinfo\">Total: 147, Shown: 147</div></div>"
      ]
     },
     "metadata": {},
     "output_type": "display_data"
    }
   ],
   "source": [
    "select distinct ?fcu where {\n",
    "    \n",
    "    { service <http://ontology.inrae.fr/frenchcropusage/sparql> {\n",
    "        <http://ontology.inrae.fr/frenchcropusage/Usages_plantes_cultivees> skos:narrower+ ?fcu.\n",
    "        # Keep only leaves or their direct parent but not above\n",
    "        FILTER (NOT EXISTS { ?fcu skos:narrower/skos:narrower ?child. })\n",
    "    }}\n",
    "    minus \n",
    "    { service <http://graph.i3s.unice.fr/repositories/taxref-ld> {\n",
    "        select distinct ?fcu\n",
    "        from <http://taxref.mnhn.fr/lod/graph/alignment-fcu-precision>\n",
    "        where { ?fcu <http://taxref.mnhn.fr/lod/property/candidateAlignment> ?taxon }\n",
    "    }}\n",
    "}  order by ?fcu"
   ]
  },
  {
   "cell_type": "markdown",
   "metadata": {},
   "source": [
    "___\n",
    "# Agreement/disagreement between methods"
   ]
  },
  {
   "cell_type": "markdown",
   "metadata": {},
   "source": [
    "### Alignments common to the 3 methods **direct, geves, eppo**"
   ]
  },
  {
   "cell_type": "code",
   "execution_count": 59,
   "metadata": {},
   "outputs": [
    {
     "data": {
      "text/html": [
       "<div class=\"krn-spql\"><table><tr class=hdr><th>alignment_count</th>\n",
       "<th>fcu_count</th></tr><tr class=odd><td class=val>15</td>\n",
       "<td class=val>15</td></tr></table><div class=\"tinfo\">Total: 1, Shown: 1</div></div>"
      ]
     },
     "metadata": {},
     "output_type": "display_data"
    }
   ],
   "source": [
    "select (count(distinct *) as ?alignment_count) (count(distinct ?fcu) as ?fcu_count) where {\n",
    "    \n",
    "    service <http://graph.i3s.unice.fr/repositories/taxref-ld> {\n",
    "        select distinct *\n",
    "        from <http://taxref.mnhn.fr/lod/graph/alignment-fcu-precision> \n",
    "        where {\n",
    "            ?fcu <http://taxref.mnhn.fr/lod/property/candidateAlignment_direct> ?taxon.\n",
    "            ?fcu <http://taxref.mnhn.fr/lod/property/candidateAlignment_geves> ?taxon.\n",
    "            ?fcu <http://taxref.mnhn.fr/lod/property/candidateAlignment_eppo> ?taxon.\n",
    "        }\n",
    "    }\n",
    "}  order by ?fcu"
   ]
  },
  {
   "cell_type": "markdown",
   "metadata": {},
   "source": [
    "### Alignments from methods **direct, geves**"
   ]
  },
  {
   "cell_type": "code",
   "execution_count": 60,
   "metadata": {},
   "outputs": [
    {
     "data": {
      "text/html": [
       "<div class=\"krn-spql\"><table><tr class=hdr><th>alignment_count</th>\n",
       "<th>fcu_count</th></tr><tr class=odd><td class=val>17</td>\n",
       "<td class=val>17</td></tr></table><div class=\"tinfo\">Total: 1, Shown: 1</div></div>"
      ]
     },
     "metadata": {},
     "output_type": "display_data"
    }
   ],
   "source": [
    "select (count(distinct *) as ?alignment_count) (count(distinct ?fcu) as ?fcu_count) where {\n",
    "    \n",
    "    service <http://graph.i3s.unice.fr/repositories/taxref-ld> {\n",
    "        select distinct *\n",
    "        from <http://taxref.mnhn.fr/lod/graph/alignment-fcu-precision> \n",
    "        where {\n",
    "            ?fcu <http://taxref.mnhn.fr/lod/property/candidateAlignment_direct> ?taxon.\n",
    "            ?fcu <http://taxref.mnhn.fr/lod/property/candidateAlignment_geves> ?taxon.\n",
    "            #filter not exists { ?fcu <http://taxref.mnhn.fr/lod/property/candidateAlignment_eppo> ?taxon. }\n",
    "        }\n",
    "    }\n",
    "}  order by ?fcu"
   ]
  },
  {
   "cell_type": "markdown",
   "metadata": {},
   "source": [
    "### Alignments from methods **direct, eppo**"
   ]
  },
  {
   "cell_type": "code",
   "execution_count": 61,
   "metadata": {},
   "outputs": [
    {
     "data": {
      "text/html": [
       "<div class=\"krn-spql\"><table><tr class=hdr><th>alignment_count</th>\n",
       "<th>fcu_count</th></tr><tr class=odd><td class=val>115</td>\n",
       "<td class=val>108</td></tr></table><div class=\"tinfo\">Total: 1, Shown: 1</div></div>"
      ]
     },
     "metadata": {},
     "output_type": "display_data"
    }
   ],
   "source": [
    "select (count(distinct *) as ?alignment_count) (count(distinct ?fcu) as ?fcu_count) where {\n",
    "    \n",
    "    service <http://graph.i3s.unice.fr/repositories/taxref-ld> {\n",
    "        select distinct *\n",
    "        from <http://taxref.mnhn.fr/lod/graph/alignment-fcu-precision> \n",
    "        where {\n",
    "            ?fcu <http://taxref.mnhn.fr/lod/property/candidateAlignment_direct> ?taxon.\n",
    "            ?fcu <http://taxref.mnhn.fr/lod/property/candidateAlignment_eppo> ?taxon.\n",
    "            #filter not exists { ?fcu <http://taxref.mnhn.fr/lod/property/candidateAlignment_geves> ?taxon. }\n",
    "        }\n",
    "    }\n",
    "}  order by ?fcu"
   ]
  },
  {
   "cell_type": "markdown",
   "metadata": {},
   "source": [
    "___\n",
    "# Alignments per method"
   ]
  },
  {
   "cell_type": "markdown",
   "metadata": {},
   "source": [
    "### Alignments from the **direct** method"
   ]
  },
  {
   "cell_type": "code",
   "execution_count": 54,
   "metadata": {},
   "outputs": [
    {
     "data": {
      "text/html": [
       "<div class=\"krn-spql\"><table><tr class=hdr><th>alignment_count</th>\n",
       "<th>fcu_count</th></tr><tr class=odd><td class=val>385</td>\n",
       "<td class=val>161</td></tr></table><div class=\"tinfo\">Total: 1, Shown: 1</div></div>"
      ]
     },
     "metadata": {},
     "output_type": "display_data"
    }
   ],
   "source": [
    "select (count(distinct *) as ?alignment_count) (count(distinct ?fcu) as ?fcu_count) where {\n",
    "    \n",
    "    service <http://graph.i3s.unice.fr/repositories/taxref-ld> {\n",
    "        select distinct *\n",
    "        from <http://taxref.mnhn.fr/lod/graph/alignment-fcu-precision> \n",
    "        where {\n",
    "            ?fcu <http://taxref.mnhn.fr/lod/property/candidateAlignment_direct> ?taxon.\n",
    "            #filter not exists { ?fcu <http://taxref.mnhn.fr/lod/property/candidateAlignment_geves> ?taxon. }\n",
    "            #filter not exists { ?fcu <http://taxref.mnhn.fr/lod/property/candidateAlignment_eppo> ?taxon. }\n",
    "        }\n",
    "    }\n",
    "}  order by ?fcu"
   ]
  },
  {
   "cell_type": "markdown",
   "metadata": {},
   "source": [
    "### Alignments from the **geves** method"
   ]
  },
  {
   "cell_type": "code",
   "execution_count": 55,
   "metadata": {},
   "outputs": [
    {
     "data": {
      "text/html": [
       "<div class=\"krn-spql\"><table><tr class=hdr><th>alignment_count</th>\n",
       "<th>fcu_count</th></tr><tr class=odd><td class=val>67</td>\n",
       "<td class=val>64</td></tr></table><div class=\"tinfo\">Total: 1, Shown: 1</div></div>"
      ]
     },
     "metadata": {},
     "output_type": "display_data"
    }
   ],
   "source": [
    "select (count(distinct *) as ?alignment_count) (count(distinct ?fcu) as ?fcu_count) where {\n",
    "    \n",
    "    service <http://graph.i3s.unice.fr/repositories/taxref-ld> {\n",
    "        select distinct *\n",
    "        from <http://taxref.mnhn.fr/lod/graph/alignment-fcu-precision> \n",
    "        where {\n",
    "            ?fcu <http://taxref.mnhn.fr/lod/property/candidateAlignment_geves> ?taxon.\n",
    "            #filter not exists { ?fcu <http://taxref.mnhn.fr/lod/property/candidateAlignment_direct> ?taxon. }\n",
    "            #filter not exists { ?fcu <http://taxref.mnhn.fr/lod/property/candidateAlignment_eppo> ?taxon. }\n",
    "        }\n",
    "    }\n",
    "}  order by ?fcu"
   ]
  },
  {
   "cell_type": "markdown",
   "metadata": {},
   "source": [
    "### Alignments from the **eppo** method"
   ]
  },
  {
   "cell_type": "code",
   "execution_count": 56,
   "metadata": {},
   "outputs": [
    {
     "data": {
      "text/html": [
       "<div class=\"krn-spql\"><table><tr class=hdr><th>alignment_count</th>\n",
       "<th>fcu_count</th></tr><tr class=odd><td class=val>362</td>\n",
       "<td class=val>266</td></tr></table><div class=\"tinfo\">Total: 1, Shown: 1</div></div>"
      ]
     },
     "metadata": {},
     "output_type": "display_data"
    }
   ],
   "source": [
    "select (count(distinct *) as ?alignment_count) (count(distinct ?fcu) as ?fcu_count) where {\n",
    "    \n",
    "    service <http://graph.i3s.unice.fr/repositories/taxref-ld> {\n",
    "        select distinct *\n",
    "        from <http://taxref.mnhn.fr/lod/graph/alignment-fcu-precision> \n",
    "        where {\n",
    "            ?fcu <http://taxref.mnhn.fr/lod/property/candidateAlignment_eppo> ?taxon.\n",
    "            #filter not exists { ?fcu <http://taxref.mnhn.fr/lod/property/candidateAlignment_geves> ?taxon. }\n",
    "            #filter not exists { ?fcu <http://taxref.mnhn.fr/lod/property/candidateAlignment_direct> ?taxon. }\n",
    "        }\n",
    "    }\n",
    "}  order by ?fcu"
   ]
  },
  {
   "cell_type": "code",
   "execution_count": null,
   "metadata": {},
   "outputs": [],
   "source": []
  }
 ],
 "metadata": {
  "kernelspec": {
   "display_name": "SPARQL",
   "language": "sparql",
   "name": "sparql"
  },
  "language_info": {
   "codemirror_mode": {
    "name": "sparql"
   },
   "mimetype": "application/sparql-query",
   "name": "sparql",
   "pygments_lexer": "sparql-nb"
  }
 },
 "nbformat": 4,
 "nbformat_minor": 4
}
