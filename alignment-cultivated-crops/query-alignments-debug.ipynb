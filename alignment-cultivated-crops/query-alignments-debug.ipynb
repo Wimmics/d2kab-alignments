{
 "cells": [
  {
   "cell_type": "code",
   "execution_count": 1,
   "metadata": {},
   "outputs": [
    {
     "data": {
      "text/html": [
       "<div class=\"krn-spql\"><div class=\"magic\">Endpoint set to: http://localhost:8080/sparql</div><div class=\"magic\">Display: table</div><div class=\"magic\">Result maximum size: 1000</div><div class=\"magic\">Prefix set: rdf: = &lt;http://www.w3.org/1999/02/22-rdf-syntax-ns#&gt;</div><div class=\"magic\">Prefix set: rdfs: = &lt;http://www.w3.org/2000/01/rdf-schema#&gt;</div><div class=\"magic\">Prefix set: owl: = &lt;http://www.w3.org/2002/07/owl#&gt;</div><div class=\"magic\">Prefix set: skos: = &lt;http://www.w3.org/2004/02/skos/core#&gt;</div></div>"
      ],
      "text/plain": [
       "Endpoint set to: http://localhost:8080/sparql\n",
       "Display: table\n",
       "Result maximum size: 1000\n",
       "Prefix set: rdf: = <http://www.w3.org/1999/02/22-rdf-syntax-ns#>\n",
       "Prefix set: rdfs: = <http://www.w3.org/2000/01/rdf-schema#>\n",
       "Prefix set: owl: = <http://www.w3.org/2002/07/owl#>\n",
       "Prefix set: skos: = <http://www.w3.org/2004/02/skos/core#>\n"
      ]
     },
     "metadata": {},
     "output_type": "display_data"
    }
   ],
   "source": [
    "%endpoint http://localhost:8080/sparql\n",
    "%display table\n",
    "%show 1000\n",
    "%prefix rdf:            <http://www.w3.org/1999/02/22-rdf-syntax-ns#>\n",
    "%prefix rdfs:           <http://www.w3.org/2000/01/rdf-schema#>\n",
    "%prefix owl:            <http://www.w3.org/2002/07/owl#>\n",
    "%prefix skos:           <http://www.w3.org/2004/02/skos/core#>"
   ]
  },
  {
   "cell_type": "code",
   "execution_count": 4,
   "metadata": {},
   "outputs": [
    {
     "data": {
      "text/html": [
       "<div class=\"krn-spql\"><table><tr class=hdr><th>fcu</th></tr><tr class=odd><td class=val><a href=\"http://ontology.inrae.fr/frenchcropusage/Choux_frisés\" target=\"_other\">http://ontology.inrae.fr/frenchcropusage/Choux_frisés</a></td></tr></table><div class=\"tinfo\">Total: 1, Shown: 1</div></div>"
      ]
     },
     "metadata": {},
     "output_type": "display_data"
    }
   ],
   "source": [
    "select * where {\n",
    "    service <http://graph.i3s.unice.fr/repositories/taxref-ld> {\n",
    "        select distinct ?fcu\n",
    "        from <http://taxref.mnhn.fr/lod/graph/alignment-fcu-recall>\n",
    "        where { \n",
    "            ?fcu <http://taxref.mnhn.fr/lod/property/candidateAlignment_eppo> ?taxon \n",
    "            filter regex(str(?fcu), \"Choux_fris\")\n",
    "        }\n",
    "}}"
   ]
  },
  {
   "cell_type": "code",
   "execution_count": 3,
   "metadata": {},
   "outputs": [
    {
     "data": {
      "text/html": [
       "<div class=\"krn-spql\"><table><tr class=hdr><th>fcu</th></tr></table><div class=\"tinfo\">Total: 0, Shown: 0</div></div>"
      ]
     },
     "metadata": {},
     "output_type": "display_data"
    }
   ],
   "source": [
    "select * where {\n",
    "    service <http://graph.i3s.unice.fr/repositories/taxref-ld> {\n",
    "        select distinct ?fcu\n",
    "        from <http://taxref.mnhn.fr/lod/graph/alignment-fcu-recall>\n",
    "        where {\n",
    "            ?fcu <http://taxref.mnhn.fr/lod/property/candidateAlignment_eppo> ?taxon.\n",
    "            filter regex(str(?fcu), \"Choux_fris\")\n",
    "            filter (?fcu_str = \"http://ontology.inrae.fr/frenchcropusage/Choux_frisés\")\n",
    "        }\n",
    "}}"
   ]
  },
  {
   "cell_type": "code",
   "execution_count": 2,
   "metadata": {},
   "outputs": [
    {
     "data": {
      "text/html": [
       "<div class=\"krn-spql\"><div class=\"krn-error\"><span class=\"title\">Error:</span> Query processing error: &lt;urlopen error [WinError 10061] Aucune connexion n’a pu être établie car l’ordinateur cible l’a expressément refusée&gt;</div></div>"
      ],
      "text/plain": [
       "Error: Query processing error: <urlopen error [WinError 10061] Aucune connexion n’a pu être établie car l’ordinateur cible l’a expressément refusée>"
      ]
     },
     "metadata": {},
     "output_type": "display_data"
    }
   ],
   "source": [
    "select distinct ?fcu\n",
    "from <http://taxref.mnhn.fr/lod/graph/alignment-fcu-recall>\n",
    "where {\n",
    "    ?fcu <http://taxref.mnhn.fr/lod/property/candidateAlignment_eppo> ?taxon.\n",
    "    filter (?fcu = <http://ontology.inrae.fr/frenchcropusage/Choux_frisés>)\n",
    "}"
   ]
  },
  {
   "cell_type": "code",
   "execution_count": null,
   "metadata": {},
   "outputs": [],
   "source": []
  }
 ],
 "metadata": {
  "kernelspec": {
   "display_name": "SPARQL",
   "language": "sparql",
   "name": "sparql"
  },
  "language_info": {
   "codemirror_mode": {
    "name": "sparql"
   },
   "mimetype": "application/sparql-query",
   "name": "sparql",
   "pygments_lexer": "sparql-nb"
  }
 },
 "nbformat": 4,
 "nbformat_minor": 4
}
