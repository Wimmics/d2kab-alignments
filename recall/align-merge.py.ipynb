{
 "cells": [
  {
   "cell_type": "markdown",
   "metadata": {},
   "source": [
    "# Merge the results from the 3 different methods"
   ]
  },
  {
   "cell_type": "markdown",
   "metadata": {},
   "source": [
    "### Initializations"
   ]
  },
  {
   "cell_type": "code",
   "execution_count": 1,
   "metadata": {},
   "outputs": [],
   "source": [
    "import sys\n",
    "import json\n",
    "import os\n",
    "from string import Template\n",
    "import pandas as pd\n",
    "from time import sleep\n",
    "from math import isnan, nan\n",
    "from rdflib import Graph, URIRef"
   ]
  },
  {
   "cell_type": "code",
   "execution_count": 2,
   "metadata": {},
   "outputs": [],
   "source": [
    "sys.path.append('..')\n",
    "from utils import *"
   ]
  },
  {
   "cell_type": "markdown",
   "metadata": {},
   "source": [
    "## Load and merge the csv files"
   ]
  },
  {
   "cell_type": "code",
   "execution_count": 3,
   "metadata": {},
   "outputs": [],
   "source": [
    "df_fcu_taxref = pd.read_csv(\"fcu-taxref/result_fcu_taxref_merge.csv\", keep_default_na = False)\n",
    "df_fcu_geves_taxref = pd.read_csv(\"fcu-geves-taxref/result3_fcu_geves_taxref_merge.csv\", keep_default_na = False)\n",
    "df_fcu_eppo_taxref = pd.read_csv(\"fcu-eppo-taxref/result3_fcu_eppo_taxref_merge.csv\", keep_default_na = False)"
   ]
  },
  {
   "cell_type": "code",
   "execution_count": 4,
   "metadata": {},
   "outputs": [],
   "source": [
    "df_merge = pd.concat([df_fcu_taxref, df_fcu_geves_taxref, df_fcu_eppo_taxref], sort=False)"
   ]
  },
  {
   "cell_type": "code",
   "execution_count": 5,
   "metadata": {},
   "outputs": [
    {
     "name": "stdout",
     "output_type": "stream",
     "text": [
      "== Number of lines: 1118\n",
      "== Number of unique values:\n",
      "fcu_concept             337\n",
      "method                    3\n",
      "geves_name               79\n",
      "eppo_scientific_name    327\n",
      "taxref_ref_full_name    616\n",
      "taxon                   609\n",
      "rank                      4\n",
      "dtype: int64\n"
     ]
    },
    {
     "data": {
      "text/html": [
       "<div>\n",
       "<style scoped>\n",
       "    .dataframe tbody tr th:only-of-type {\n",
       "        vertical-align: middle;\n",
       "    }\n",
       "\n",
       "    .dataframe tbody tr th {\n",
       "        vertical-align: top;\n",
       "    }\n",
       "\n",
       "    .dataframe thead th {\n",
       "        text-align: right;\n",
       "    }\n",
       "</style>\n",
       "<table border=\"1\" class=\"dataframe\">\n",
       "  <thead>\n",
       "    <tr style=\"text-align: right;\">\n",
       "      <th></th>\n",
       "      <th>fcu_concept</th>\n",
       "      <th>method</th>\n",
       "      <th>geves_name</th>\n",
       "      <th>eppo_scientific_name</th>\n",
       "      <th>taxref_ref_full_name</th>\n",
       "      <th>taxon</th>\n",
       "      <th>rank</th>\n",
       "    </tr>\n",
       "  </thead>\n",
       "  <tbody>\n",
       "    <tr>\n",
       "      <th>0</th>\n",
       "      <td>http://ontology.inrae.fr/frenchcropusage/Ananas</td>\n",
       "      <td>direct</td>\n",
       "      <td></td>\n",
       "      <td></td>\n",
       "      <td>Ananas comosus (L.) Merr., 1917</td>\n",
       "      <td>http://taxref.mnhn.fr/lod/taxon/447782</td>\n",
       "      <td>http://taxref.mnhn.fr/lod/taxrank/Species</td>\n",
       "    </tr>\n",
       "    <tr>\n",
       "      <th>1</th>\n",
       "      <td>http://ontology.inrae.fr/frenchcropusage/Anemones</td>\n",
       "      <td>direct</td>\n",
       "      <td></td>\n",
       "      <td></td>\n",
       "      <td>Anemone hortensis nothosubsp. fulgens (J.Gay) ...</td>\n",
       "      <td>http://taxref.mnhn.fr/lod/taxon/131396</td>\n",
       "      <td>http://taxref.mnhn.fr/lod/taxrank/SubSpecies</td>\n",
       "    </tr>\n",
       "    <tr>\n",
       "      <th>2</th>\n",
       "      <td>http://ontology.inrae.fr/frenchcropusage/Angel...</td>\n",
       "      <td>direct</td>\n",
       "      <td></td>\n",
       "      <td></td>\n",
       "      <td>Dicorynia guianensis Amshoff, 1939</td>\n",
       "      <td>http://taxref.mnhn.fr/lod/taxon/733639</td>\n",
       "      <td>http://taxref.mnhn.fr/lod/taxrank/Species</td>\n",
       "    </tr>\n",
       "    <tr>\n",
       "      <th>3</th>\n",
       "      <td>http://ontology.inrae.fr/frenchcropusage/Arach...</td>\n",
       "      <td>direct</td>\n",
       "      <td></td>\n",
       "      <td></td>\n",
       "      <td>Arachis hypogaea L., 1753</td>\n",
       "      <td>http://taxref.mnhn.fr/lod/taxon/611649</td>\n",
       "      <td>http://taxref.mnhn.fr/lod/taxrank/Species</td>\n",
       "    </tr>\n",
       "    <tr>\n",
       "      <th>4</th>\n",
       "      <td>http://ontology.inrae.fr/frenchcropusage/Artic...</td>\n",
       "      <td>direct</td>\n",
       "      <td></td>\n",
       "      <td></td>\n",
       "      <td>Cynara cardunculus L., 1753</td>\n",
       "      <td>http://taxref.mnhn.fr/lod/taxon/93783</td>\n",
       "      <td>http://taxref.mnhn.fr/lod/taxrank/Species</td>\n",
       "    </tr>\n",
       "    <tr>\n",
       "      <th>5</th>\n",
       "      <td>http://ontology.inrae.fr/frenchcropusage/Asperges</td>\n",
       "      <td>direct</td>\n",
       "      <td></td>\n",
       "      <td></td>\n",
       "      <td>Asparagus albus L., 1753</td>\n",
       "      <td>http://taxref.mnhn.fr/lod/taxon/84265</td>\n",
       "      <td>http://taxref.mnhn.fr/lod/taxrank/Species</td>\n",
       "    </tr>\n",
       "    <tr>\n",
       "      <th>6</th>\n",
       "      <td>http://ontology.inrae.fr/frenchcropusage/Attiers</td>\n",
       "      <td>direct</td>\n",
       "      <td></td>\n",
       "      <td></td>\n",
       "      <td>Annona squamosa L., 1753</td>\n",
       "      <td>http://taxref.mnhn.fr/lod/taxon/446901</td>\n",
       "      <td>http://taxref.mnhn.fr/lod/taxrank/Species</td>\n",
       "    </tr>\n",
       "    <tr>\n",
       "      <th>7</th>\n",
       "      <td>http://ontology.inrae.fr/frenchcropusage/Auber...</td>\n",
       "      <td>direct</td>\n",
       "      <td></td>\n",
       "      <td></td>\n",
       "      <td>Solanum melongena L., 1753</td>\n",
       "      <td>http://taxref.mnhn.fr/lod/taxon/124075</td>\n",
       "      <td>http://taxref.mnhn.fr/lod/taxrank/Species</td>\n",
       "    </tr>\n",
       "    <tr>\n",
       "      <th>8</th>\n",
       "      <td>http://ontology.inrae.fr/frenchcropusage/Avoca...</td>\n",
       "      <td>direct</td>\n",
       "      <td></td>\n",
       "      <td></td>\n",
       "      <td>Persea americana Mill., 1768</td>\n",
       "      <td>http://taxref.mnhn.fr/lod/taxon/447273</td>\n",
       "      <td>http://taxref.mnhn.fr/lod/taxrank/Species</td>\n",
       "    </tr>\n",
       "    <tr>\n",
       "      <th>9</th>\n",
       "      <td>http://ontology.inrae.fr/frenchcropusage/Avoines</td>\n",
       "      <td>direct</td>\n",
       "      <td></td>\n",
       "      <td></td>\n",
       "      <td>Avena sativa subsp. sativa L., 1753</td>\n",
       "      <td>http://taxref.mnhn.fr/lod/taxon/132016</td>\n",
       "      <td>http://taxref.mnhn.fr/lod/taxrank/SubSpecies</td>\n",
       "    </tr>\n",
       "  </tbody>\n",
       "</table>\n",
       "</div>"
      ],
      "text/plain": [
       "                                         fcu_concept  method geves_name  \\\n",
       "0    http://ontology.inrae.fr/frenchcropusage/Ananas  direct              \n",
       "1  http://ontology.inrae.fr/frenchcropusage/Anemones  direct              \n",
       "2  http://ontology.inrae.fr/frenchcropusage/Angel...  direct              \n",
       "3  http://ontology.inrae.fr/frenchcropusage/Arach...  direct              \n",
       "4  http://ontology.inrae.fr/frenchcropusage/Artic...  direct              \n",
       "5  http://ontology.inrae.fr/frenchcropusage/Asperges  direct              \n",
       "6   http://ontology.inrae.fr/frenchcropusage/Attiers  direct              \n",
       "7  http://ontology.inrae.fr/frenchcropusage/Auber...  direct              \n",
       "8  http://ontology.inrae.fr/frenchcropusage/Avoca...  direct              \n",
       "9   http://ontology.inrae.fr/frenchcropusage/Avoines  direct              \n",
       "\n",
       "  eppo_scientific_name                               taxref_ref_full_name  \\\n",
       "0                                         Ananas comosus (L.) Merr., 1917   \n",
       "1                       Anemone hortensis nothosubsp. fulgens (J.Gay) ...   \n",
       "2                                      Dicorynia guianensis Amshoff, 1939   \n",
       "3                                               Arachis hypogaea L., 1753   \n",
       "4                                             Cynara cardunculus L., 1753   \n",
       "5                                                Asparagus albus L., 1753   \n",
       "6                                                Annona squamosa L., 1753   \n",
       "7                                              Solanum melongena L., 1753   \n",
       "8                                            Persea americana Mill., 1768   \n",
       "9                                     Avena sativa subsp. sativa L., 1753   \n",
       "\n",
       "                                    taxon  \\\n",
       "0  http://taxref.mnhn.fr/lod/taxon/447782   \n",
       "1  http://taxref.mnhn.fr/lod/taxon/131396   \n",
       "2  http://taxref.mnhn.fr/lod/taxon/733639   \n",
       "3  http://taxref.mnhn.fr/lod/taxon/611649   \n",
       "4   http://taxref.mnhn.fr/lod/taxon/93783   \n",
       "5   http://taxref.mnhn.fr/lod/taxon/84265   \n",
       "6  http://taxref.mnhn.fr/lod/taxon/446901   \n",
       "7  http://taxref.mnhn.fr/lod/taxon/124075   \n",
       "8  http://taxref.mnhn.fr/lod/taxon/447273   \n",
       "9  http://taxref.mnhn.fr/lod/taxon/132016   \n",
       "\n",
       "                                           rank  \n",
       "0     http://taxref.mnhn.fr/lod/taxrank/Species  \n",
       "1  http://taxref.mnhn.fr/lod/taxrank/SubSpecies  \n",
       "2     http://taxref.mnhn.fr/lod/taxrank/Species  \n",
       "3     http://taxref.mnhn.fr/lod/taxrank/Species  \n",
       "4     http://taxref.mnhn.fr/lod/taxrank/Species  \n",
       "5     http://taxref.mnhn.fr/lod/taxrank/Species  \n",
       "6     http://taxref.mnhn.fr/lod/taxrank/Species  \n",
       "7     http://taxref.mnhn.fr/lod/taxrank/Species  \n",
       "8     http://taxref.mnhn.fr/lod/taxrank/Species  \n",
       "9  http://taxref.mnhn.fr/lod/taxrank/SubSpecies  "
      ]
     },
     "metadata": {},
     "output_type": "display_data"
    }
   ],
   "source": [
    "dataframe_preview(df_merge)"
   ]
  },
  {
   "cell_type": "code",
   "execution_count": 6,
   "metadata": {},
   "outputs": [],
   "source": [
    "df_merge.to_excel(\"result_recall.xlsx\", index=False)"
   ]
  },
  {
   "cell_type": "markdown",
   "metadata": {},
   "source": [
    "## Save alignments as triples"
   ]
  },
  {
   "cell_type": "code",
   "execution_count": 7,
   "metadata": {},
   "outputs": [],
   "source": [
    "g = Graph()\n",
    "for index, row in df_merge.iterrows():\n",
    "    g.add((URIRef(row['fcu_concept']), URIRef('http://taxref.mnhn.fr/lod/property/candidateAlignment' + '_' + row['method']), URIRef(row['taxon']), ))\n",
    "g.serialize('result_recall.ttl', format='turtle')"
   ]
  }
 ],
 "metadata": {
  "kernelspec": {
   "display_name": "Python 3",
   "language": "python",
   "name": "python3"
  },
  "language_info": {
   "codemirror_mode": {
    "name": "ipython",
    "version": 3
   },
   "file_extension": ".py",
   "mimetype": "text/x-python",
   "name": "python",
   "nbconvert_exporter": "python",
   "pygments_lexer": "ipython3",
   "version": "3.8.6"
  }
 },
 "nbformat": 4,
 "nbformat_minor": 4
}
